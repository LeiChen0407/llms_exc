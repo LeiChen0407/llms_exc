{
 "cells": [
  {
   "cell_type": "code",
   "execution_count": 1,
   "id": "ddd91490-61c7-4fc0-84d5-5cca77c44957",
   "metadata": {},
   "outputs": [
    {
     "name": "stderr",
     "output_type": "stream",
     "text": [
      "[4pdvGPU Msg(54767:140614090889024:libvgpu.c:869)]: Initializing.....\n",
      "[4pdvGPU Warn(54767:140614090889024:hook.c:475)]: remap handles for device 0\n",
      "[4pdvGPU Warn(54767:140614090889024:hook.c:475)]: remap handles for device 1\n",
      "[4pdvGPU Warn(54767:140614090889024:multiprocess_memory_limit.c:568)]: Kick dead proc 54607\n",
      "[4pdvGPU Warn(54767:140614090889024:multiprocess_memory_limit.c:568)]: Kick dead proc 54699\n",
      "[4pdvGPU Warn(54767:140614090889024:utils.c:228)]: get default cuda 2 from (null)\n",
      "[4pdvGPU Msg(54767:140614090889024:libvgpu.c:902)]: Initialized\n"
     ]
    },
    {
     "name": "stdout",
     "output_type": "stream",
     "text": [
      "🦥 Unsloth: Will patch your computer to enable 2x faster free finetuning.\n"
     ]
    },
    {
     "name": "stderr",
     "output_type": "stream",
     "text": [
      "/root/miniconda3/envs/llm/lib/python3.10/site-packages/tqdm/auto.py:21: TqdmWarning: IProgress not found. Please update jupyter and ipywidgets. See https://ipywidgets.readthedocs.io/en/stable/user_install.html\n",
      "  from .autonotebook import tqdm as notebook_tqdm\n"
     ]
    },
    {
     "name": "stdout",
     "output_type": "stream",
     "text": [
      "🦥 Unsloth Zoo will now patch everything to make training faster!\n"
     ]
    },
    {
     "name": "stderr",
     "output_type": "stream",
     "text": [
      "[4pdvGPU Msg(54851:140509772027712:libvgpu.c:869)]: Initializing.....\n",
      "[4pdvGPU Warn(54851:140509772027712:hook.c:475)]: remap handles for device 0\n",
      "[4pdvGPU Warn(54851:140509772027712:hook.c:475)]: remap handles for device 1\n",
      "[4pdvGPU Warn(54851:140509772027712:utils.c:228)]: get default cuda 2 from (null)\n",
      "[4pdvGPU Msg(54851:140509772027712:libvgpu.c:902)]: Initialized\n"
     ]
    },
    {
     "name": "stdout",
     "output_type": "stream",
     "text": [
      "==((====))==  Unsloth 2025.5.9: Fast Qwen2 patching. Transformers: 4.52.4.\n",
      "   \\\\   /|    NVIDIA A30. Num GPUs = 2. Max memory: 24.0 GB. Platform: Linux.\n",
      "O^O/ \\_/ \\    Torch: 2.7.0+cu126. CUDA: 8.0. CUDA Toolkit: 12.6. Triton: 3.3.0\n",
      "\\        /    Bfloat16 = TRUE. FA [Xformers = 0.0.30. FA2 = False]\n",
      " \"-____-\"     Free license: http://github.com/unslothai/unsloth\n",
      "Unsloth: Fast downloading is enabled - ignore downloading bars which are red colored!\n"
     ]
    },
    {
     "name": "stderr",
     "output_type": "stream",
     "text": [
      "[4pdvGPU Msg(54767:140614090889024:memory.c:566)]: orig free=24866193408 total=25217466368 limit=25769803776 usage=234881024\n",
      "[4pdvGPU Msg(54767:140614090889024:memory.c:566)]: orig free=24950079488 total=25217466368 limit=25769803776 usage=234881024\n",
      "Loading checkpoint shards:   0%|                                        | 0/2 [00:00<?, ?it/s][4pdvGPU Msg(54767:140614090889024:memory.c:566)]: orig free=24866193408 total=25217466368 limit=25769803776 usage=234881024\n",
      "[4pdvGPU Msg(54767:140614090889024:memory.c:566)]: orig free=24950079488 total=25217466368 limit=25769803776 usage=234881024\n",
      "Loading checkpoint shards: 100%|████████████████████████████████| 2/2 [00:03<00:00,  1.61s/it]\n",
      "[4pdvGPU Warn(55053:139988863162176:hook.c:475)]: remap handles for device 0\n",
      "[4pdvGPU Warn(55053:139988863162176:hook.c:475)]: remap handles for device 1\n"
     ]
    }
   ],
   "source": [
    "from unsloth import FastLanguageModel\n",
    "import torch\n",
    "max_seq_length = 4096 # Choose any! We auto support RoPE Scaling internally!\n",
    "dtype = None # None for auto detection. Float16 for Tesla T4, V100, Bfloat16 for Ampere+\n",
    "load_in_8bit = False # Use 4bit quantization to reduce memory usage. Can be False.\n",
    "\n",
    "model, tokenizer = FastLanguageModel.from_pretrained(\n",
    "    model_name = \"../model/Qwen2.5-3B-Instruct\",\n",
    "    max_seq_length = max_seq_length,\n",
    "    dtype = dtype,\n",
    "    load_in_4bit = False,\n",
    "    load_in_8bit = load_in_8bit,\n",
    "    gpu_memory_utilization=1,\n",
    "    device_map='auto'\n",
    "    # token = \"hf_...\", # use one if using gated models like meta-llama/Llama-2-7b-hf\n",
    ")"
   ]
  },
  {
   "cell_type": "code",
   "execution_count": 3,
   "id": "6f0879c7-d89d-4fa9-9431-9a3cc48eb5dd",
   "metadata": {},
   "outputs": [
    {
     "name": "stderr",
     "output_type": "stream",
     "text": [
      "Unsloth 2025.5.9 patched 36 layers with 36 QKV layers, 36 O layers and 36 MLP layers.\n"
     ]
    }
   ],
   "source": [
    "model = FastLanguageModel.get_peft_model(\n",
    "    model,\n",
    "    r = 32, # Choose any number > 0 ! Suggested 8, 16, 32, 64, 128\n",
    "    target_modules = [\"q_proj\", \"k_proj\", \"v_proj\", \"o_proj\",\n",
    "                      \"gate_proj\", \"up_proj\", \"down_proj\",],\n",
    "    lora_alpha = 16,\n",
    "    lora_dropout = 0, # Supports any, but = 0 is optimized\n",
    "    bias = \"none\",    # Supports any, but = \"none\" is optimized\n",
    "    # [NEW] \"unsloth\" uses 30% less VRAM, fits 2x larger batch sizes!\n",
    "    use_gradient_checkpointing = \"unsloth\", # True or \"unsloth\" for very long context\n",
    "    random_state = 3407,\n",
    "    use_rslora = False,  # We support rank stabilized LoRA\n",
    "    loftq_config = None, # And LoftQ\n",
    ")"
   ]
  },
  {
   "cell_type": "code",
   "execution_count": 2,
   "id": "e3218360-be4e-414f-8267-65bf4cb70e00",
   "metadata": {},
   "outputs": [
    {
     "name": "stderr",
     "output_type": "stream",
     "text": [
      "Map: 100%|██████████████████████████████████| 214408/214408 [00:07<00:00, 28101.83 examples/s]\n"
     ]
    }
   ],
   "source": [
    "alpaca_prompt = \"\"\"\n",
    "\n",
    "### Input:\n",
    "{}\n",
    "\n",
    "### Response:\n",
    "{}\"\"\"\n",
    "\n",
    "EOS_TOKEN = tokenizer.eos_token # Must add EOS_TOKEN\n",
    "def formatting_prompts_func(examples):\n",
    "    inputs       = examples[\"input\"]\n",
    "    outputs      = examples[\"output\"]\n",
    "    texts = []\n",
    "    for input, output in zip(inputs, outputs):\n",
    "        # Must add EOS_TOKEN, otherwise your generation will go on forever!\n",
    "        text = alpaca_prompt.format(input, output) + EOS_TOKEN\n",
    "        texts.append(text)\n",
    "    return { \"text\" : texts}\n",
    "pass\n",
    "\n",
    "from datasets import load_dataset\n",
    "dataset = load_dataset(\"/mnt/proj/data/normal/\",split=\"train\")\n",
    "dataset = dataset.shuffle(seed=46)\n",
    "dataset = dataset.map(formatting_prompts_func, batched = True,)"
   ]
  },
  {
   "cell_type": "code",
   "execution_count": 7,
   "id": "2accb236-f5cc-45b2-b161-a3f3fe8d8207",
   "metadata": {},
   "outputs": [
    {
     "data": {
      "text/plain": [
       "214408"
      ]
     },
     "execution_count": 7,
     "metadata": {},
     "output_type": "execute_result"
    }
   ],
   "source": [
    "len(dataset)"
   ]
  },
  {
   "cell_type": "code",
   "execution_count": 4,
   "id": "12e77d32-dff7-49fb-8d59-b5e8c0bebe7b",
   "metadata": {},
   "outputs": [
    {
     "data": {
      "text/plain": [
       "{'id': 'leg_case_cls-25',\n",
       " 'input': '以下文本反映了什么类型的风险\\n江苏宿迁的盛先生一家,最近很苦恼.为啥?家里40万的卖房款,被两个孩子花得一分不剩,这些钱都让熊孩子给各平台主播打赏了!你说气人不?原来盛先生陪父母到银行办业务,发现银行卡里的40万不翼而飞!这可是元旦前家里卖房子的钱啊.一查银行流水显示,从1月4日到2月16日之间,每天都有三四十笔支付宝或QQ支付转账,每笔资金从几块钱到一千多块钱不等,最多的一天有四五万块钱.40万不是一个小数字,孩子花这么多钱,大人怎么会不知道呢?据盛先生讲,他和弟弟常年在外打工,侄子小北跟着奶奶生活.因为老年机无法下载习题作业,于是给小北买了一部智能手机.本想监督孩子写作业,没想到孩子竟迷上了手游,还用奶奶的手机号注册,并且绑定了银行卡.孩子是如何得知密码的呢?原来奶奶年纪大了,害怕记不住密码,就写在了一张纸上,没想到被孩子发现了.需要输入验证码的时候,拿起老人手机一看便知,而这一切,孩子奶奶毫不知情!于是小北和另外一个13岁的孩子,两人开起狂欢模式,疯狂给主播们打赏.孩子在家没事可干,加上家长疏于监督,玩游戏会导致行为上瘾.经常玩游戏的人都知道,老虎机输的时候沉默无声,赢的时候会有红灯闪烁、好像你赢得了全世界一样.所以才会有那么多的人迷恋游戏,它给人的感官刺激太大了.40万,对于一个农村家庭来说不是小数,真不知道父母要辛苦攒多少年血汗钱,才能凑齐这40万.令人高兴的是,已经有一部分平台答应给小北一家退钱了.希望孩子和家长都能记住这个教训.#两熊孩子玩游戏打赏主播花光40万#',\n",
       " 'output': '盗用风险',\n",
       " 'text': '\\n\\n### Input:\\n以下文本反映了什么类型的风险\\n江苏宿迁的盛先生一家,最近很苦恼.为啥?家里40万的卖房款,被两个孩子花得一分不剩,这些钱都让熊孩子给各平台主播打赏了!你说气人不?原来盛先生陪父母到银行办业务,发现银行卡里的40万不翼而飞!这可是元旦前家里卖房子的钱啊.一查银行流水显示,从1月4日到2月16日之间,每天都有三四十笔支付宝或QQ支付转账,每笔资金从几块钱到一千多块钱不等,最多的一天有四五万块钱.40万不是一个小数字,孩子花这么多钱,大人怎么会不知道呢?据盛先生讲,他和弟弟常年在外打工,侄子小北跟着奶奶生活.因为老年机无法下载习题作业,于是给小北买了一部智能手机.本想监督孩子写作业,没想到孩子竟迷上了手游,还用奶奶的手机号注册,并且绑定了银行卡.孩子是如何得知密码的呢?原来奶奶年纪大了,害怕记不住密码,就写在了一张纸上,没想到被孩子发现了.需要输入验证码的时候,拿起老人手机一看便知,而这一切,孩子奶奶毫不知情!于是小北和另外一个13岁的孩子,两人开起狂欢模式,疯狂给主播们打赏.孩子在家没事可干,加上家长疏于监督,玩游戏会导致行为上瘾.经常玩游戏的人都知道,老虎机输的时候沉默无声,赢的时候会有红灯闪烁、好像你赢得了全世界一样.所以才会有那么多的人迷恋游戏,它给人的感官刺激太大了.40万,对于一个农村家庭来说不是小数,真不知道父母要辛苦攒多少年血汗钱,才能凑齐这40万.令人高兴的是,已经有一部分平台答应给小北一家退钱了.希望孩子和家长都能记住这个教训.#两熊孩子玩游戏打赏主播花光40万#\\n\\n### Response:\\n盗用风险<|im_end|>'}"
      ]
     },
     "execution_count": 4,
     "metadata": {},
     "output_type": "execute_result"
    }
   ],
   "source": [
    "dataset[190000]"
   ]
  },
  {
   "cell_type": "code",
   "execution_count": 5,
   "id": "aeb9244d-d411-421c-86ed-9e6a64946dd9",
   "metadata": {},
   "outputs": [
    {
     "name": "stderr",
     "output_type": "stream",
     "text": [
      "[4pdvGPU Warn(55149:140090057246528:hook.c:475)]: remap handles for device 0\n",
      "[4pdvGPU Warn(55149:140090057246528:hook.c:475)]: remap handles for device 1\n",
      "[4pdvGPU Warn(55150:140226020153152:hook.c:475)]: remap handles for device 0\n",
      "[4pdvGPU Warn(55150:140226020153152:hook.c:475)]: remap handles for device 1\n",
      "Unsloth: Tokenizing [\"text\"]: 100%|██████████| 214408/214408 [00:52<00:00, 4081.84 examples/s]\n",
      "Detected kernel version 3.10.0, which is below the recommended minimum of 5.5.0; this can cause the process to hang. It is recommended to upgrade the kernel to the minimum version or higher.\n"
     ]
    }
   ],
   "source": [
    "from trl import SFTTrainer\n",
    "from transformers import TrainingArguments\n",
    "from unsloth import is_bfloat16_supported\n",
    "\n",
    "trainer = SFTTrainer(\n",
    "    model = model,\n",
    "    tokenizer = tokenizer,\n",
    "    train_dataset = dataset,\n",
    "    dataset_text_field = \"text\",\n",
    "    max_seq_length = max_seq_length,\n",
    "    dataset_num_proc = 1,\n",
    "    packing = False, # Can make training 5x faster for short sequences.\n",
    "    args = TrainingArguments(\n",
    "        per_device_train_batch_size = 8,\n",
    "        gradient_accumulation_steps = 8,\n",
    "        warmup_steps = 5,\n",
    "        num_train_epochs = 1, # Set this for 1 full training run.\n",
    "        # max_steps = 60,\n",
    "        learning_rate = 2e-5,\n",
    "        fp16 = not is_bfloat16_supported(),\n",
    "        bf16 = is_bfloat16_supported(),\n",
    "        logging_steps = 1,\n",
    "        optim = \"adamw_8bit\",\n",
    "        weight_decay = 0.01,\n",
    "        lr_scheduler_type = \"linear\",\n",
    "        seed = 3409,\n",
    "        output_dir = \"outputs\",\n",
    "        report_to = \"none\", # Use this for WandB etc\n",
    "    ),\n",
    ")"
   ]
  },
  {
   "cell_type": "code",
   "execution_count": null,
   "id": "76d80a98-43ca-4623-b923-70695049cd64",
   "metadata": {},
   "outputs": [],
   "source": [
    "trainer_stats = trainer.train()"
   ]
  },
  {
   "cell_type": "code",
   "execution_count": null,
   "id": "a1721078-4b14-4eb6-9e29-b44bde46f764",
   "metadata": {},
   "outputs": [],
   "source": [
    "# alpaca_prompt = Copied from above\n",
    "FastLanguageModel.for_inference(model).to(\"cuda:1\") # Enable native 2x faster inference\n",
    "inputs = tokenizer(\n",
    "[\n",
    "    alpaca_prompt.format(\n",
    "        \"请归纳这篇文书的大致要点 莫振红与齐爱青、龙书贵借款合同纠纷一审民事判决书 河南省滑县人民法院 民 事 判 决 书 （2018）豫0526民初805号原告莫振红，女，1973年3月3日生，汉族。 委托代理人孟帅、李亚廷（实习），河南卓誉律师事务所律师。 被告齐爱青，女，1968年2月28日生，汉族。 被告龙书贵，男，1964年2月3日生，汉族。 原告莫振红诉被告齐爱青、龙书贵借款合同纠纷一案，本院受理后，依法适用简易程序，公开开庭进行了审理。 原告莫振红的委托代理人孟帅、被告齐爱青到庭参加诉讼，被告龙书贵经传票传唤未到庭参加诉讼。 本案现已审理终结。 原告莫振红诉称，2014年11月11日，二被告向原告借款2万元，并向原告出具了借条一份。 后经多次催要，被告均以各种理由推拖没有偿还原告。 起诉请求依法判令被告偿还原告借款2万元及利息； 诉讼费用由被告承担。 被告齐爱青辩称，借款属实，但中间原告拉走3车砖折抵借款0.8万元，尚欠1.2万元，故被告现在不欠原告2万元钱。 被告龙书贵缺席未答辩。 经审理查明：2014年11月11日，被告齐爱青、龙书贵共同向原告借款2万元，并出具借条一份，内容为：“今借到现金贰万元正￥20000元2014年11月11日齐爱青龙书贵。” 上述借款至今未予偿还。 以上事实，有原告提交的借条及原、被告部分庭审陈述可以证实，上述证据经庭审质证，可以作为认定本案事实的依据。 本院认为，被告齐爱青、龙书贵共同向原告借款2万元，有原告提供的被告齐爱青、龙书贵签名确认的借条予以证实，故被告齐爱青、龙书贵负有共同偿还的责任。 关于利息，因未明确约定，应自原告主张权利时即起诉之日起，按年利率6%计算。 被告齐爱青主张原告拉砖三车即已经折抵借款0.8万元及其他辩解意见，均证据不足，依法不予采信。 根据《中华人民共和国民法通则》第八十四条、第一百零八条，《中华人民共和国民事诉讼法》第六十四条、第一百四十四条的规定，判决如下：被告齐爱青、龙书贵于本判决生效后五日内共同偿还原告莫振红借款人民币2万元及利息（自2018年1月22日起，按照年利率6%计算至本判决限定的履行期限届满之日止）。 如果未按本判决指定的期间履行给付金钱义务，应当依照《中华人民共和国民事诉讼法》第二百五十三条之规定，加倍支付迟延履行期间的债务利息。 案件受理费300元，减半收取150元，被告齐爱青、龙书贵共同负担。 如不服本判决，可在判决送达之日起十五日内，向本院递交上诉状，并按当事人的人数提出副本，上诉于河南省安阳市中级人民法院。 审判员　　张兴政 二〇一八年二月二十二日 书记员　　王舒舒\", # input\n",
    "        \"\", # output - leave this blank for generation!\n",
    "    )\n",
    "], return_tensors = \"pt\").to(\"cuda:1\")\n",
    "\n",
    "from transformers import TextStreamer\n",
    "text_streamer = TextStreamer(tokenizer)\n",
    "_ = model.generate(**inputs, streamer = text_streamer, max_new_tokens = 1280)"
   ]
  },
  {
   "cell_type": "code",
   "execution_count": 11,
   "id": "9e228ed1-30af-4566-a26d-229c68aeab5e",
   "metadata": {},
   "outputs": [
    {
     "data": {
      "text/plain": [
       "('../model/lora_3b_full_data/tokenizer_config.json',\n",
       " '../model/lora_3b_full_data/special_tokens_map.json',\n",
       " '../model/lora_3b_full_data/chat_template.jinja',\n",
       " '../model/lora_3b_full_data/vocab.json',\n",
       " '../model/lora_3b_full_data/merges.txt',\n",
       " '../model/lora_3b_full_data/added_tokens.json',\n",
       " '../model/lora_3b_full_data/tokenizer.json')"
      ]
     },
     "execution_count": 11,
     "metadata": {},
     "output_type": "execute_result"
    }
   ],
   "source": [
    "model.save_pretrained(\"../model/lora_3b_full_data\")  # Local saving\n",
    "tokenizer.save_pretrained(\"../model/lora_3b_full_data\")"
   ]
  },
  {
   "cell_type": "code",
   "execution_count": 12,
   "id": "74aba6dc-4480-4ff1-9615-3fa5811ae07a",
   "metadata": {},
   "outputs": [
    {
     "name": "stdout",
     "output_type": "stream",
     "text": [
      "Unsloth: Merging 4bit and LoRA weights to 16bit...\n",
      "Unsloth: Will use up to 321.21 out of 503.19 RAM for saving.\n",
      "Unsloth: Saving model... This might take 5 minutes ...\n"
     ]
    },
    {
     "name": "stderr",
     "output_type": "stream",
     "text": [
      "100%|█████████████████████████████████████████████████████████| 36/36 [00:00<00:00, 62.99it/s]\n"
     ]
    },
    {
     "name": "stdout",
     "output_type": "stream",
     "text": [
      "Unsloth: Saving tokenizer... Done.\n",
      "Done.\n"
     ]
    }
   ],
   "source": [
    "if True: model.save_pretrained_merged(\"../model/law_3b_full_data_f16\", tokenizer, save_method = \"merged_16bit\")"
   ]
  },
  {
   "cell_type": "code",
   "execution_count": 1,
   "id": "a521d523-b919-4d0d-a152-28057ae1a8a5",
   "metadata": {},
   "outputs": [
    {
     "name": "stderr",
     "output_type": "stream",
     "text": [
      "[4pdvGPU Msg(69350:140645045749568:libvgpu.c:869)]: Initializing.....\n",
      "[4pdvGPU Warn(69350:140645045749568:hook.c:475)]: remap handles for device 0\n",
      "[4pdvGPU Warn(69350:140645045749568:hook.c:475)]: remap handles for device 1\n",
      "/root/miniconda3/envs/llm/lib/python3.10/site-packages/tqdm/auto.py:21: TqdmWarning: IProgress not found. Please update jupyter and ipywidgets. See https://ipywidgets.readthedocs.io/en/stable/user_install.html\n",
      "  from .autonotebook import tqdm as notebook_tqdm\n",
      "[4pdvGPU Warn(69350:140645045749568:utils.c:228)]: get default cuda 2 from (null)\n",
      "[4pdvGPU Msg(69350:140645045749568:libvgpu.c:902)]: Initialized\n",
      "[4pdvGPU Msg(69350:140645045749568:memory.c:566)]: orig free=24971051008 total=25217466368 limit=25769803776 usage=236978176\n",
      "[4pdvGPU Msg(69350:140645045749568:memory.c:566)]: orig free=24971051008 total=25217466368 limit=25769803776 usage=236978176\n",
      "Loading checkpoint shards:   0%|                                        | 0/2 [00:00<?, ?it/s][4pdvGPU Msg(69350:140645045749568:memory.c:566)]: orig free=24971051008 total=25217466368 limit=25769803776 usage=236978176\n",
      "[4pdvGPU Msg(69350:140645045749568:memory.c:566)]: orig free=24971051008 total=25217466368 limit=25769803776 usage=236978176\n",
      "Loading checkpoint shards: 100%|████████████████████████████████| 2/2 [00:03<00:00,  1.62s/it]\n",
      "[4pdvGPU Warn(69455:140280103335744:hook.c:475)]: remap handles for device 0\n",
      "[4pdvGPU Warn(69455:140280103335744:hook.c:475)]: remap handles for device 1\n"
     ]
    },
    {
     "name": "stdout",
     "output_type": "stream",
     "text": [
      "content: 这是一起借款合同纠纷案件，涉及原告莫振红和被告齐爱青、龙书贵。根据案件描述：\n",
      "\n",
      "原告莫振红诉称被告齐爱青、龙书贵在2014年11月11日向她借款2万元，并出具了一份借条。\n",
      "\n",
      "被告齐爱青辩称，借款属实，但是原告拉走了三车砖，折抵了借款中的0.8万元，所以目前只欠原告1.2万元。\n",
      "\n",
      "法院判决如下：\n",
      "1. 被告齐爱青、龙书贵共同偿还借款2万元；\n",
      "2. 被告齐爱青、龙书贵共同支付利息（自原告起诉之日起，按照年利率6%计算至判决限定的履行期限届满之日止）。\n",
      "\n",
      "需要注意的是，被告齐爱青的辩解意见并未被采纳。\n"
     ]
    }
   ],
   "source": [
    "from modelscope import AutoModelForCausalLM, AutoTokenizer\n",
    "\n",
    "model_name = \"../model/law_3b_full_data_f16\"\n",
    "\n",
    "# load the tokenizer and the model\n",
    "tokenizer = AutoTokenizer.from_pretrained(model_name)\n",
    "model = AutoModelForCausalLM.from_pretrained(\n",
    "    model_name,\n",
    "    torch_dtype=\"auto\",\n",
    "    device_map=\"auto\"\n",
    ")\n",
    "\n"
   ]
  },
  {
   "cell_type": "code",
   "execution_count": 5,
   "id": "1001f8ea-b103-4780-af30-1f16ac0c079e",
   "metadata": {},
   "outputs": [
    {
     "name": "stdout",
     "output_type": "stream",
     "text": [
      "content: D\n"
     ]
    }
   ],
   "source": [
    "# prepare the model input\n",
    "# prompt = \"\"\"\n",
    "# 请归纳这篇文书的大致要点 莫振红与齐爱青、龙书贵借款合同纠纷一审民事判决书 河南省滑县人民法院 民 事 判 决 书 （2018）豫0526民初805号原告莫振红，女，1973年3月3日生，汉族。 委托代\n",
    "# 理人孟帅、李亚廷（实习），河南卓誉律师事务所律师。 被告齐爱青，女，1968年2月28日生，汉族。 被告龙书贵，男，1964年2月3日生，汉族。 原告莫振红诉被告齐爱青、龙书贵借款合同纠纷一案，本院受理后，\n",
    "# 依法适用简易程序，公开开庭进行了审理。 原告莫振红的委托代理人孟帅、被告齐爱青到庭参加诉讼，被告龙书贵经传票传唤未到庭参加诉讼。 本案现已审理终结。 原告莫振红诉称，2014年11月11日，二被告向原告\n",
    "# 借款2万元，并向原告出具了借条一份。 后经多次催要，被告均以各种理由推拖没有偿还原告。 起诉请求依法判令被告偿还原告借款2万元及利息； 诉讼费用由被告承担。 被告齐爱青辩称，借款属实，但中间原告拉走3\n",
    "# 车砖折抵借款0.8万元，尚欠1.2万元，故被告现在不欠原告2万元钱。 被告龙书贵缺席未答辩。 经审理查明：2014年11月11日，被告齐爱青、龙书贵共同向原告借款2万元，并出具借条一份，内容为：“今借到现金贰万元\n",
    "# 正￥20000元2014年11月11日齐爱青龙书贵。” 上述借款至今未予偿还。 以上事实，有原告提交的借条及原、被告部分庭审陈述可以证实，上述证据经庭审质证，可以作为认定本案事实的依据。 本院认为，被告齐爱青、\n",
    "# 龙书贵共同向原告借款2万元，有原告提供的被告齐爱青、龙书贵签名确认的借条予以证实，故被告齐爱青、龙书贵负有共同偿还的责任。 关于利息，因未明确约定，应自原告主张权利时即起诉之日起，按年利率6%计算。 \n",
    "# 被告齐爱青主张原告拉砖三车即已经折抵借款0.8万元及其他辩解意见，均证据不足，依法不予采信。 根据《中华人民共和国民法通则》第八十四条、第一百零八条，《中华人民共和国民事诉讼法》第六十四条、第一百四十四条的\n",
    "# 规定，判决如下：被告齐爱青、龙书贵于本判决生效后五日内共同偿还原告莫振红借款人民币2万元及利息（自2018年1月22日起，按照年利率6%计算至本判决限定的履行期限届满之日止）。 如果未按本判决指定的期间履行给付\n",
    "# 金钱义务，应当依照《中华人民共和国民事诉讼法》第二百五十三条之规定，加倍支付迟延履行期间的债务利息。 案件受理费300元，减半收取150元，被告齐爱青、龙书贵共同负担。 如不服本判决，可在判决送达之日起十五\n",
    "# 日内，向本院递交上诉状，并按当事人的人数提出副本，上诉于河南省安阳市中级人民法院。 审判员　　张兴政 二〇一八年二月二十二日 书记员　　王舒舒\"\"\"\n",
    "prompt = \"\"\"\n",
    "这是一个关于法律问题的单项选择题,请根据题目选择正确的选项(只需要给出正确选项即可)：\\n\n",
    "问题：马锡五在审理“抢亲案\"时发现，女方与男方两情相悦，定有婚约，女方父亲为了更多的彩礼将女儿许配另一人，男方父亲带领婚礼抢亲，马锡五判婚姻有效，男方父亲判徒刑半年，女方父亲判劳役半年，\n",
    "判决一出，群众无不交口称赞。关于马锡五审判，以下哪一说法是错误的？\\n\n",
    "A：群众不能理解的判决，很难具有公信力\\n\n",
    "B:司法裁判要坚持走群众路线\\n\n",
    "C:马锡五知民情知民意\\n\n",
    "D:只要群众满意，不必恪守法律\\n\n",
    "\"\"\"\n",
    "messages = [\n",
    "    {\"role\": \"user\", \"content\": prompt}\n",
    "]\n",
    "text = tokenizer.apply_chat_template(\n",
    "    messages,\n",
    "    tokenize=False,\n",
    "    add_generation_prompt=True,\n",
    ")\n",
    "model_inputs = tokenizer([text], return_tensors=\"pt\").to(model.device)\n",
    "\n",
    "# conduct text completion\n",
    "generated_ids = model.generate(\n",
    "    **model_inputs,\n",
    "    max_new_tokens=50\n",
    ")\n",
    "\n",
    "content = tokenizer.decode(generated_ids[0][model_inputs.input_ids.shape[1]:], skip_special_tokens=True).strip(\"\\n\")\n",
    "\n",
    "print(\"content:\", content)"
   ]
  },
  {
   "cell_type": "code",
   "execution_count": 6,
   "id": "d2c79330-9f80-49c0-b8fb-259f0117b64d",
   "metadata": {},
   "outputs": [
    {
     "name": "stderr",
     "output_type": "stream",
     "text": [
      "[4pdvGPU Msg(69350:140645045749568:memory.c:566)]: orig free=21137457152 total=25217466368 limit=25769803776 usage=4018275328\n",
      "[4pdvGPU Msg(69350:140645045749568:memory.c:566)]: orig free=21670133760 total=25217466368 limit=25769803776 usage=3485598720\n",
      "Loading checkpoint shards:   0%|                                        | 0/2 [00:00<?, ?it/s][4pdvGPU Msg(69350:140645045749568:memory.c:566)]: orig free=21137457152 total=25217466368 limit=25769803776 usage=4018275328\n",
      "[4pdvGPU Msg(69350:140645045749568:memory.c:566)]: orig free=21670133760 total=25217466368 limit=25769803776 usage=3485598720\n",
      "Loading checkpoint shards: 100%|████████████████████████████████| 2/2 [00:16<00:00,  8.23s/it]\n",
      "[4pdvGPU Warn(69916:140369235285824:hook.c:475)]: remap handles for device 0\n",
      "[4pdvGPU Warn(69916:140369235285824:hook.c:475)]: remap handles for device 1\n"
     ]
    }
   ],
   "source": [
    "model_name = \"../model/law_3b_f16\"\n",
    "\n",
    "# load the tokenizer and the model\n",
    "tokenizer_cot = AutoTokenizer.from_pretrained(model_name)\n",
    "model_cot = AutoModelForCausalLM.from_pretrained(\n",
    "    model_name,\n",
    "    torch_dtype=\"auto\",\n",
    "    device_map=\"auto\"\n",
    ")"
   ]
  },
  {
   "cell_type": "code",
   "execution_count": null,
   "id": "377231eb-6462-4187-a2c1-36f92e2abc0b",
   "metadata": {},
   "outputs": [],
   "source": [
    "import pandas as pd\n",
    "\n",
    "data = \"./mcq_sing_nje.csv\"\n",
    "df = pd.read_csv(data)\n",
    "answer = []\n",
    "acc = 0\n",
    "for i in range(len(df)):\n",
    "    prompt = f\"\"\"\n",
    "    这是一个关于法律问题的单项选择题,请根据题目选择正确的选项(只需要回答正确选项即可，不需要进行分析)：\\n\n",
    "    问题：{df[\"input\"][i]}\\n\n",
    "    A：{df[\"A\"][i]}\\n\n",
    "    B:{df[\"B\"][i]}\\n\n",
    "    C:{df[\"C\"][i]}\\n\n",
    "    D:{df[\"D\"][i]}\\n\n",
    "    \"\"\"\n",
    "    messages = [\n",
    "        {\"role\": \"user\", \"content\": prompt}\n",
    "    ]\n",
    "    text = tokenizer.apply_chat_template(\n",
    "        messages,\n",
    "        tokenize=False,\n",
    "        add_generation_prompt=True,\n",
    "    )\n",
    "    model_inputs = tokenizer([text], return_tensors=\"pt\").to(model.device)\n",
    "    \n",
    "    # conduct text completion\n",
    "    generated_ids = model.generate(\n",
    "        **model_inputs,\n",
    "        max_new_tokens=50\n",
    "    )\n",
    "    \n",
    "    content = tokenizer.decode(generated_ids[0][model_inputs.input_ids.shape[1]:], skip_special_tokens=True).strip(\"\\n\")\n",
    "    print(\"content:\", content)\n",
    "    if content[0] ==  df[\"output\"][i]:\n",
    "        acc += 1    \n",
    "    answer.append(content[0])\n",
    "print(acc)"
   ]
  },
  {
   "cell_type": "code",
   "execution_count": 22,
   "id": "049c3994-b606-4e9a-9588-27fff504876a",
   "metadata": {},
   "outputs": [
    {
     "data": {
      "text/plain": [
       "0    D\n",
       "1    D\n",
       "2    C\n",
       "3    D\n",
       "4    B\n",
       "5    A\n",
       "6    D\n",
       "7    C\n",
       "8    A\n",
       "9    A\n",
       "Name: output, dtype: object"
      ]
     },
     "execution_count": 22,
     "metadata": {},
     "output_type": "execute_result"
    }
   ],
   "source": [
    "df[\"output\"][:10]"
   ]
  },
  {
   "cell_type": "code",
   "execution_count": 7,
   "id": "b563e0a5-7708-4650-97fa-d18b2310ca24",
   "metadata": {},
   "outputs": [
    {
     "name": "stdout",
     "output_type": "stream",
     "text": [
      "content: D:只要群众满意，不必恪守法律\n"
     ]
    }
   ],
   "source": [
    "\n",
    "prompt = \"\"\"\n",
    "这是一个关于法律问题的单项选择题,请根据题目选择正确的选项(只需要给出正确选项即可)：\\n\n",
    "问题：马锡五在审理“抢亲案\"时发现，女方与男方两情相悦，定有婚约，女方父亲为了更多的彩礼将女儿许配另一人，男方父亲带领婚礼抢亲，马锡五判婚姻有效，男方父亲判徒刑半年，女方父亲判劳役半年，\n",
    "判决一出，群众无不交口称赞。关于马锡五审判，以下哪一说法是错误的？\\n\n",
    "A：群众不能理解的判决，很难具有公信力\\n\n",
    "B:司法裁判要坚持走群众路线\\n\n",
    "C:马锡五知民情知民意\\n\n",
    "D:只要群众满意，不必恪守法律\\n\n",
    "\"\"\"\n",
    "messages = [\n",
    "    {\"role\": \"user\", \"content\": prompt}\n",
    "]\n",
    "text = tokenizer_cot.apply_chat_template(\n",
    "    messages,\n",
    "    tokenize=False,\n",
    "    add_generation_prompt=True,\n",
    ")\n",
    "model_inputs = tokenizer_cot([text], return_tensors=\"pt\").to(model_cot.device)\n",
    "\n",
    "# conduct text completion\n",
    "generated_ids = model_cot.generate(\n",
    "    **model_inputs,\n",
    "    max_new_tokens=50\n",
    ")\n",
    "\n",
    "content = tokenizer_cot.decode(generated_ids[0][model_inputs.input_ids.shape[1]:], skip_special_tokens=True).strip(\"\\n\")\n",
    "\n",
    "print(\"content:\", content)"
   ]
  },
  {
   "cell_type": "code",
   "execution_count": 13,
   "id": "a62755bc-15d0-422b-bb45-406e61459e7c",
   "metadata": {},
   "outputs": [
    {
     "ename": "SyntaxError",
     "evalue": "invalid syntax (709890214.py, line 1)",
     "output_type": "error",
     "traceback": [
      "\u001b[0;36m  Cell \u001b[0;32mIn[13], line 1\u001b[0;36m\u001b[0m\n\u001b[0;31m    [model_inputs.input_ids.shape[1]:]\u001b[0m\n\u001b[0m                                    ^\u001b[0m\n\u001b[0;31mSyntaxError\u001b[0m\u001b[0;31m:\u001b[0m invalid syntax\n"
     ]
    }
   ],
   "source": [
    "[model_inputs.input_ids.shape[1]:]"
   ]
  },
  {
   "cell_type": "code",
   "execution_count": 16,
   "id": "73da0591-7c67-4be2-b6bf-223c8881d641",
   "metadata": {},
   "outputs": [
    {
     "data": {
      "text/plain": [
       "'<|im_start|>system\\nYou are Qwen, created by Alibaba Cloud. You are a helpful assistant.<|im_end|>\\n<|im_start|>user\\n\\n这是一个关于法律问题的单项选择题,请根据题目选择正确的选项(只需要给出正确选项即可)：\\n\\n问题：马锡五在审理“抢亲案\"时发现，女方与男方两情相悦，定有婚约，女方父亲为了更多的彩礼将女儿许配另一人，男方父亲带领婚礼抢亲，马锡五判婚姻有效，男方父亲判徒刑半年，女方父亲判劳役半年，\\n判决一出，群众无不交口称赞。关于马锡五审判，以下哪一说法是错误的？\\n\\nA：群众不能理解的判决，很难具有公信力\\n\\nB:司法裁判要坚持走群众路线\\n\\nC:马锡五知民情知民意\\n\\nD:只要群众满意，不必恪守法律\\n\\n<|im_end|>\\n<|im_start|>assistant\\nD:只要群众满意，不必恪守法律<|im_end|>'"
      ]
     },
     "execution_count": 16,
     "metadata": {},
     "output_type": "execute_result"
    }
   ],
   "source": [
    "tokenizer_cot.decode(generated_ids[0])"
   ]
  },
  {
   "cell_type": "code",
   "execution_count": null,
   "id": "ed077720-5728-4cb0-bc57-3cfe7e7d1fb9",
   "metadata": {},
   "outputs": [],
   "source": []
  }
 ],
 "metadata": {
  "kernelspec": {
   "display_name": "unsloth",
   "language": "python",
   "name": "unsloth"
  },
  "language_info": {
   "codemirror_mode": {
    "name": "ipython",
    "version": 3
   },
   "file_extension": ".py",
   "mimetype": "text/x-python",
   "name": "python",
   "nbconvert_exporter": "python",
   "pygments_lexer": "ipython3",
   "version": "3.10.16"
  }
 },
 "nbformat": 4,
 "nbformat_minor": 5
}
