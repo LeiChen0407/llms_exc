{
 "cells": [
  {
   "cell_type": "markdown",
   "id": "4e2f18fd",
   "metadata": {
    "vscode": {
     "languageId": "plaintext"
    }
   },
   "source": [
    "### RL\n",
    "\n",
    "- 强化学习是一种解决控制任务（也称为决策问题）的框架，它通过构建代理来解决控制任务，代理通过反复试验与环境交互并从环境中学习，并获得奖励（正面或负面）作为独特的反馈\n",
    "\n",
    "- Probability Density Function (PDF):概率密度函数，表示随机变量再某个确定的取值点附近的可能性\n",
    "- state : 当前时期的状态\n",
    "- action : 基于状态做出的行动取值{a,b,c}\n",
    "- policy : 做出行动(a)\n",
    "- reward :\n",
    "- state transition \n",
    "- 随机性的来源：\n",
    "    - 1.action带来的随机性\n",
    "    - 2.state transition带来的随机行\n",
    "- return : 又称cumulative future reward\n",
    "- discount return :cumulative discount future reward\n",
    "- value function : "
   ]
  }
 ],
 "metadata": {
  "language_info": {
   "name": "python"
  }
 },
 "nbformat": 4,
 "nbformat_minor": 5
}
