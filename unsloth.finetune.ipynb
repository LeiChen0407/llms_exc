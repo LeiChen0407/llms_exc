{
 "cells": [
  {
   "cell_type": "code",
   "execution_count": 1,
   "id": "1bdaf18c-7e5a-415b-aebf-25823b719652",
   "metadata": {},
   "outputs": [
    {
     "name": "stderr",
     "output_type": "stream",
     "text": [
      "[4pdvGPU Msg(16115:140123943016256:libvgpu.c:869)]: Initializing.....\n",
      "[4pdvGPU Warn(16115:140123943016256:hook.c:475)]: remap handles for device 0\n",
      "[4pdvGPU Warn(16115:140123943016256:hook.c:475)]: remap handles for device 1\n",
      "[4pdvGPU Warn(16115:140123943016256:multiprocess_memory_limit.c:568)]: Kick dead proc 13732\n",
      "[4pdvGPU Warn(16115:140123943016256:multiprocess_memory_limit.c:568)]: Kick dead proc 13816\n",
      "[4pdvGPU Warn(16115:140123943016256:utils.c:228)]: get default cuda 2 from (null)\n",
      "[4pdvGPU Msg(16115:140123943016256:libvgpu.c:902)]: Initialized\n"
     ]
    },
    {
     "name": "stdout",
     "output_type": "stream",
     "text": [
      "🦥 Unsloth: Will patch your computer to enable 2x faster free finetuning.\n"
     ]
    },
    {
     "name": "stderr",
     "output_type": "stream",
     "text": [
      "/root/miniconda3/envs/llm/lib/python3.10/site-packages/tqdm/auto.py:21: TqdmWarning: IProgress not found. Please update jupyter and ipywidgets. See https://ipywidgets.readthedocs.io/en/stable/user_install.html\n",
      "  from .autonotebook import tqdm as notebook_tqdm\n"
     ]
    },
    {
     "name": "stdout",
     "output_type": "stream",
     "text": [
      "🦥 Unsloth Zoo will now patch everything to make training faster!\n"
     ]
    },
    {
     "name": "stderr",
     "output_type": "stream",
     "text": [
      "[4pdvGPU Msg(16201:140509940254528:libvgpu.c:869)]: Initializing.....\n",
      "[4pdvGPU Warn(16201:140509940254528:hook.c:475)]: remap handles for device 0\n",
      "[4pdvGPU Warn(16201:140509940254528:hook.c:475)]: remap handles for device 1\n",
      "[4pdvGPU Warn(16201:140509940254528:utils.c:228)]: get default cuda 2 from (null)\n",
      "[4pdvGPU Msg(16201:140509940254528:libvgpu.c:902)]: Initialized\n"
     ]
    },
    {
     "name": "stdout",
     "output_type": "stream",
     "text": [
      "==((====))==  Unsloth 2025.5.9: Fast Qwen2 patching. Transformers: 4.52.4.\n",
      "   \\\\   /|    NVIDIA A30. Num GPUs = 2. Max memory: 24.0 GB. Platform: Linux.\n",
      "O^O/ \\_/ \\    Torch: 2.7.0+cu126. CUDA: 8.0. CUDA Toolkit: 12.6. Triton: 3.3.0\n",
      "\\        /    Bfloat16 = TRUE. FA [Xformers = 0.0.30. FA2 = False]\n",
      " \"-____-\"     Free license: http://github.com/unslothai/unsloth\n",
      "Unsloth: Fast downloading is enabled - ignore downloading bars which are red colored!\n"
     ]
    },
    {
     "name": "stderr",
     "output_type": "stream",
     "text": [
      "[4pdvGPU Msg(16115:140123943016256:memory.c:566)]: orig free=24866193408 total=25217466368 limit=25769803776 usage=234881024\n",
      "[4pdvGPU Msg(16115:140123943016256:memory.c:566)]: orig free=24950079488 total=25217466368 limit=25769803776 usage=234881024\n",
      "Loading checkpoint shards:   0%|                                        | 0/2 [00:00<?, ?it/s][4pdvGPU Msg(16115:140123943016256:memory.c:566)]: orig free=24866193408 total=25217466368 limit=25769803776 usage=234881024\n",
      "Loading checkpoint shards: 100%|████████████████████████████████| 2/2 [00:03<00:00,  1.56s/it]\n"
     ]
    }
   ],
   "source": [
    "from unsloth import FastLanguageModel\n",
    "import torch\n",
    "max_seq_length = 4096 # Choose any! We auto support RoPE Scaling internally!\n",
    "dtype = None # None for auto detection. Float16 for Tesla T4, V100, Bfloat16 for Ampere+\n",
    "load_in_8bit = False # Use 4bit quantization to reduce memory usage. Can be False.\n",
    "\n",
    "model, tokenizer = FastLanguageModel.from_pretrained(\n",
    "    model_name = \"../model/Qwen2.5-3B-Instruct\",\n",
    "    max_seq_length = max_seq_length,\n",
    "    dtype = dtype,\n",
    "    load_in_4bit = False,\n",
    "    load_in_8bit = load_in_8bit,\n",
    "    # token = \"hf_...\", # use one if using gated models like meta-llama/Llama-2-7b-hf\n",
    ")"
   ]
  },
  {
   "cell_type": "code",
   "execution_count": 2,
   "id": "5bcc2b03-d024-4069-a230-87fd392147b0",
   "metadata": {},
   "outputs": [
    {
     "name": "stderr",
     "output_type": "stream",
     "text": [
      "Unsloth 2025.5.9 patched 36 layers with 36 QKV layers, 36 O layers and 36 MLP layers.\n"
     ]
    }
   ],
   "source": [
    "model = FastLanguageModel.get_peft_model(\n",
    "    model,\n",
    "    r = 32, # Choose any number > 0 ! Suggested 8, 16, 32, 64, 128\n",
    "    target_modules = [\"q_proj\", \"k_proj\", \"v_proj\", \"o_proj\",\n",
    "                      \"gate_proj\", \"up_proj\", \"down_proj\",],\n",
    "    lora_alpha = 16,\n",
    "    lora_dropout = 0, # Supports any, but = 0 is optimized\n",
    "    bias = \"none\",    # Supports any, but = \"none\" is optimized\n",
    "    # [NEW] \"unsloth\" uses 30% less VRAM, fits 2x larger batch sizes!\n",
    "    use_gradient_checkpointing = \"unsloth\", # True or \"unsloth\" for very long context\n",
    "    random_state = 3407,\n",
    "    use_rslora = False,  # We support rank stabilized LoRA\n",
    "    loftq_config = None, # And LoftQ\n",
    ")"
   ]
  },
  {
   "cell_type": "code",
   "execution_count": 3,
   "id": "77d0e286-b569-4587-af7b-10b3cd93b765",
   "metadata": {},
   "outputs": [],
   "source": [
    "alpaca_prompt = \"\"\"请根据给定问题，按照以下格式生成答案：首先，展示你在思考问题时的过程（用<think>标签包裹），然后给出最终的答案（用<answer>标签包裹）。确保思考过程清晰，逐步推理，并最终给出完整的回答。\n",
    "\n",
    "### Input:\n",
    "{}\n",
    "\n",
    "### Response:\n",
    "{}\"\"\"\n",
    "\n",
    "EOS_TOKEN = tokenizer.eos_token # Must add EOS_TOKEN\n",
    "def formatting_prompts_func(examples):\n",
    "    inputs       = examples[\"input\"]\n",
    "    outputs      = examples[\"output\"]\n",
    "    texts = []\n",
    "    for input, output in zip(inputs, outputs):\n",
    "        # Must add EOS_TOKEN, otherwise your generation will go on forever!\n",
    "        text = alpaca_prompt.format(input, output) + EOS_TOKEN\n",
    "        texts.append(text)\n",
    "    return { \"text\" : texts}\n",
    "pass\n",
    "\n",
    "from datasets import load_dataset\n",
    "dataset = load_dataset(\"./data/\", split = \"train\")\n",
    "dataset = dataset.map(formatting_prompts_func, batched = True,)"
   ]
  },
  {
   "cell_type": "code",
   "execution_count": 9,
   "id": "a2246652-15bb-489c-8843-46f38e0c849e",
   "metadata": {},
   "outputs": [
    {
     "data": {
      "text/plain": [
       "'请根据给定问题，按照以下格式生成答案：首先，展示你在思考问题时的过程（用<think>标签包裹），然后给出最终的答案（用<answer>标签包裹）。确保思考过程清晰，逐步推理，并最终给出完整的回答。\\n\\n### Input:\\n请归纳这篇文书的大致要点\\n莫振红与齐爱青、龙书贵借款合同纠纷一审民事判决书\\n河南省滑县人民法院\\n民 事 判 决 书\\n（2018）豫0526民初805号原告莫振红，女，1973年3月3日生，汉族。\\n委托代理人孟帅、李亚廷（实习），河南卓誉律师事务所律师。\\n被告齐爱青，女，1968年2月28日生，汉族。\\n被告龙书贵，男，1964年2月3日生，汉族。\\n原告莫振红诉被告齐爱青、龙书贵借款合同纠纷一案，本院受理后，依法适用简易程序，公开开庭进行了审理。\\n原告莫振红的委托代理人孟帅、被告齐爱青到庭参加诉讼，被告龙书贵经传票传唤未到庭参加诉讼。\\n本案现已审理终结。\\n原告莫振红诉称，2014年11月11日，二被告向原告借款2万元，并向原告出具了借条一份。\\n后经多次催要，被告均以各种理由推拖没有偿还原告。\\n起诉请求依法判令被告偿还原告借款2万元及利息；\\n诉讼费用由被告承担。\\n被告齐爱青辩称，借款属实，但中间原告拉走3车砖折抵借款0.8万元，尚欠1.2万元，故被告现在不欠原告2万元钱。\\n被告龙书贵缺席未答辩。\\n经审理查明：2014年11月11日，被告齐爱青、龙书贵共同向原告借款2万元，并出具借条一份，内容为：“今借到现金贰万元正￥20000元2014年11月11日齐爱青龙书贵。”\\n上述借款至今未予偿还。\\n以上事实，有原告提交的借条及原、被告部分庭审陈述可以证实，上述证据经庭审质证，可以作为认定本案事实的依据。\\n本院认为，被告齐爱青、龙书贵共同向原告借款2万元，有原告提供的被告齐爱青、龙书贵签名确认的借条予以证实，故被告齐爱青、龙书贵负有共同偿还的责任。\\n关于利息，因未明确约定，应自原告主张权利时即起诉之日起，按年利率6%计算。\\n被告齐爱青主张原告拉砖三车即已经折抵借款0.8万元及其他辩解意见，均证据不足，依法不予采信。\\n根据《中华人民共和国民法通则》第八十四条、第一百零八条，《中华人民共和国民事诉讼法》第六十四条、第一百四十四条的规定，判决如下：被告齐爱青、龙书贵于本判决生效后五日内共同偿还原告莫振红借款人民币2万元及利息（自2018年1月22日起，按照年利率6%计算至本判决限定的履行期限届满之日止）。\\n如果未按本判决指定的期间履行给付金钱义务，应当依照《中华人民共和国民事诉讼法》第二百五十三条之规定，加倍支付迟延履行期间的债务利息。\\n案件受理费300元，减半收取150元，被告齐爱青、龙书贵共同负担。\\n如不服本判决，可在判决送达之日起十五日内，向本院递交上诉状，并按当事人的人数提出副本，上诉于河南省安阳市中级人民法院。\\n审判员\\u3000\\u3000张兴政\\n二〇一八年二月二十二日\\n书记员\\u3000\\u3000王舒舒\\n\\n### Response:\\n<think>好的，我现在需要归纳这篇文书的大致要点。首先，我得仔细阅读这份民事判决书，找出关键信息。首先看标题，是莫振红诉齐爱青、龙书贵的借款合同纠纷一审判决，由河南省滑县人民法院作出，案号是（2018）豫0526民初805号。\\n\\n接下来，原告是莫振红，被告是齐爱青和龙书贵。原告的诉求是要求被告偿还2万元借款及利息，诉讼费用由被告承担。被告齐爱青答辩说已经用三车砖折抵了0.8万元，现在只欠1.2万元。而龙书贵没有到庭答辩。\\n\\n然后看法院查明的事实，2014年11月11日，两被告共同向原告借款2万元，并出具了借条。原告提供了借条，被告齐爱青承认借款但主张有部分还款，但证据不足，法院未采信。因此，法院判决被告需偿还2万元及利息，利息从起诉日开始按年利率6%计算。\\n\\n案件受理费由被告承担，如果未按期履行，要加倍支付迟延履行利息。被告如果不服，可以在15天内上诉。\\n\\n现在需要把这些信息归纳成要点。首先，案件的基本信息：当事人、案由、法院、案号。然后原告的诉讼请求，被告的答辩。法院认定的事实，比如借款金额、时间，被告的还款主张是否被采纳。判决结果，包括本金、利息计算方式，诉讼费用承担，以及上诉的权利。\\n\\n需要注意的是，齐爱青提到用砖抵债，但证据不足，所以法院没有支持她的主张。龙书贵缺席，可能视为放弃答辩权利。利息方面因为借条没有约定，所以法院按起诉日开始计算年利率6%。\\n\\n可能遗漏的点是法律依据，比如民法通则和民事诉讼法的相关条款，不过归纳要点时可能不需要太详细，但可以提到依据相关法律判决。另外，判决的履行期限和未履行的后果也要包括进去。\\n\\n现在整理成条目式要点，确保涵盖主要事实、争议点、法院判决结果和相关法律后果。注意不要遗漏关键数据如金额、时间、利率等。</think><answer>**文书要点归纳：**\\n\\n1. **案件基本信息**  \\n   - **案号**：（2018）豫0526民初805号  \\n   - **法院**：河南省滑县人民法院  \\n   - **当事人**：  \\n     - 原告：莫振红  \\n     - 被告：齐爱青、龙书贵  \\n\\n2. **原告主张**  \\n   - **诉求**：  \\n     - 要求被告偿还借款本金2万元及利息；  \\n     - 诉讼费用由被告承担。  \\n   - **事实依据**：  \\n     - 2014年11月11日，齐爱青、龙书贵共同向原告借款2万元，并出具借条。  \\n\\n3. **被告答辩**  \\n   - **齐爱青**：  \\n     - 承认借款属实，但主张原告已拉走3车砖抵偿0.8万元，尚欠1.2万元。  \\n     - 该主张因证据不足未被法院采信。  \\n   - **龙书贵**：缺席未答辩，视为放弃诉讼权利。  \\n\\n4. **法院查明事实**  \\n   - **借款事实**：  \\n     - 2014年11月11日，齐爱青、龙书贵共同向莫振红借款2万元，出具借条。  \\n     - 借条未明确约定利息及还款期限。  \\n   - **还款争议**：  \\n     - 齐爱青主张以砖抵债0.8万元，但未提供有效证据，法院不予支持。  \\n\\n5. **法院判决**  \\n   - **本金**：齐爱青、龙书贵共同偿还莫振红借款2万元。  \\n   - **利息**：  \\n     - 自起诉之日（2018年1月22日）起，按年利率6%计算至履行完毕。  \\n   - **诉讼费用**：案件受理费减半后150元，由两被告共同承担。  \\n   - **迟延履行责任**：若未按期履行，加倍支付迟延履行期间的债务利息。  \\n\\n6. **法律依据**  \\n   - 《中华人民共和国民法通则》第八十四条、第一百零八条（债权债务关系及清偿责任）；  \\n   - 《中华人民共和国民事诉讼法》第六十四条、第一百四十四条（举证责任及缺席判决规定）。  \\n\\n7. **上诉权利**  \\n   - 被告可在判决送达之日起15日内上诉至河南省安阳市中级人民法院。  \\n\\n**总结**：法院认定借款事实成立，因被告未提供有效还款证据，判决全额偿还本金及法定利息，诉讼费用由被告承担。</answer><|im_end|>'"
      ]
     },
     "execution_count": 9,
     "metadata": {},
     "output_type": "execute_result"
    }
   ],
   "source": [
    "dataset[\"text\"][0]"
   ]
  },
  {
   "cell_type": "code",
   "execution_count": 4,
   "id": "8fd90677-6da4-4eeb-a4db-ce353b05942f",
   "metadata": {},
   "outputs": [
    {
     "name": "stderr",
     "output_type": "stream",
     "text": [
      "[4pdvGPU Warn(16436:140130492819264:hook.c:475)]: remap handles for device 0\n",
      "[4pdvGPU Warn(16436:140130492819264:hook.c:475)]: remap handles for device 1\n",
      "[4pdvGPU Warn(16437:140025982162752:hook.c:475)]: remap handles for device 0\n",
      "[4pdvGPU Warn(16437:140025982162752:hook.c:475)]: remap handles for device 1\n",
      "Unsloth: Tokenizing [\"text\"]: 100%|████████████| 10877/10877 [00:08<00:00, 1234.27 examples/s]\n",
      "Detected kernel version 3.10.0, which is below the recommended minimum of 5.5.0; this can cause the process to hang. It is recommended to upgrade the kernel to the minimum version or higher.\n"
     ]
    }
   ],
   "source": [
    "from trl import SFTTrainer\n",
    "from transformers import TrainingArguments\n",
    "from unsloth import is_bfloat16_supported\n",
    "\n",
    "trainer = SFTTrainer(\n",
    "    model = model,\n",
    "    tokenizer = tokenizer,\n",
    "    train_dataset = dataset,\n",
    "    dataset_text_field = \"text\",\n",
    "    max_seq_length = max_seq_length,\n",
    "    dataset_num_proc = 2,\n",
    "    packing = False, # Can make training 5x faster for short sequences.\n",
    "    args = TrainingArguments(\n",
    "        per_device_train_batch_size = 2,\n",
    "        gradient_accumulation_steps = 4,\n",
    "        warmup_steps = 5,\n",
    "        num_train_epochs = 1, # Set this for 1 full training run.\n",
    "        # max_steps = 60,\n",
    "        learning_rate = 2e-4,\n",
    "        fp16 = not is_bfloat16_supported(),\n",
    "        bf16 = is_bfloat16_supported(),\n",
    "        logging_steps = 1,\n",
    "        optim = \"adamw_8bit\",\n",
    "        weight_decay = 0.01,\n",
    "        lr_scheduler_type = \"linear\",\n",
    "        seed = 3409,\n",
    "        output_dir = \"outputs\",\n",
    "        report_to = \"none\", # Use this for WandB etc\n",
    "    ),\n",
    ")"
   ]
  },
  {
   "cell_type": "code",
   "execution_count": null,
   "id": "cb094e4e-7894-44b5-ba5a-1d322c5ec842",
   "metadata": {},
   "outputs": [],
   "source": [
    "trainer_stats = trainer.train()"
   ]
  },
  {
   "cell_type": "code",
   "execution_count": 6,
   "id": "c430decf-5e86-4f44-ac89-be04176fccda",
   "metadata": {},
   "outputs": [
    {
     "name": "stdout",
     "output_type": "stream",
     "text": [
      "请根据给定问题，按照以下格式生成答案：首先，展示你在思考问题时的过程（用<think>标签包裹），然后给出最终的答案（用<answer>标签包裹）。确保思考过程清晰，逐步推理，并最终给出完整的回答。\n",
      "\n",
      "### Input:\n",
      "请归纳这篇文书的大致要点 莫振红与齐爱青、龙书贵借款合同纠纷一审民事判决书 河南省滑县人民法院 民 事 判 决 书 （2018）豫0526民初805号原告莫振红，女，1973年3月3日生，汉族。 委托代理人孟帅、李亚廷（实习），河南卓誉律师事务所律师。 被告齐爱青，女，1968年2月28日生，汉族。 被告龙书贵，男，1964年2月3日生，汉族。 原告莫振红诉被告齐爱青、龙书贵借款合同纠纷一案，本院受理后，依法适用简易程序，公开开庭进行了审理。 原告莫振红的委托代理人孟帅、被告齐爱青到庭参加诉讼，被告龙书贵经传票传唤未到庭参加诉讼。 本案现已审理终结。 原告莫振红诉称，2014年11月11日，二被告向原告借款2万元，并向原告出具了借条一份。 后经多次催要，被告均以各种理由推拖没有偿还原告。 起诉请求依法判令被告偿还原告借款2万元及利息； 诉讼费用由被告承担。 被告齐爱青辩称，借款属实，但中间原告拉走3车砖折抵借款0.8万元，尚欠1.2万元，故被告现在不欠原告2万元钱。 被告龙书贵缺席未答辩。 经审理查明：2014年11月11日，被告齐爱青、龙书贵共同向原告借款2万元，并出具借条一份，内容为：“今借到现金贰万元正￥20000元2014年11月11日齐爱青龙书贵。” 上述借款至今未予偿还。 以上事实，有原告提交的借条及原、被告部分庭审陈述可以证实，上述证据经庭审质证，可以作为认定本案事实的依据。 本院认为，被告齐爱青、龙书贵共同向原告借款2万元，有原告提供的被告齐爱青、龙书贵签名确认的借条予以证实，故被告齐爱青、龙书贵负有共同偿还的责任。 关于利息，因未明确约定，应自原告主张权利时即起诉之日起，按年利率6%计算。 被告齐爱青主张原告拉砖三车即已经折抵借款0.8万元及其他辩解意见，均证据不足，依法不予采信。 根据《中华人民共和国民法通则》第八十四条、第一百零八条，《中华人民共和国民事诉讼法》第六十四条、第一百四十四条的规定，判决如下：被告齐爱青、龙书贵于本判决生效后五日内共同偿还原告莫振红借款人民币2万元及利息（自2018年1月22日起，按照年利率6%计算至本判决限定的履行期限届满之日止）。 如果未按本判决指定的期间履行给付金钱义务，应当依照《中华人民共和国民事诉讼法》第二百五十三条之规定，加倍支付迟延履行期间的债务利息。 案件受理费300元，减半收取150元，被告齐爱青、龙书贵共同负担。 如不服本判决，可在判决送达之日起十五日内，向本院递交上诉状，并按当事人的人数提出副本，上诉于河南省安阳市中级人民法院。 审判员　　张兴政 二〇一八年二月二十二日 书记员　　王舒舒\n",
      "\n",
      "### Response:\n",
      "<think>好的，我现在需要归纳这个民事判决书的大致要点。首先，我得仔细阅读用户提供的文本，理解案件的基本情况和关键点。\n",
      "\n",
      "首先，案件的基本信息：原告是莫振红，被告是齐爱青和龙书贵，案由是借款合同纠纷，案号是（2018）豫0526民初805号。法院是河南省滑县人民法院，审理方式是简易程序，公开开庭审理，被告龙书贵缺席。\n",
      "\n",
      "接下来，原告的诉讼请求：要求两被告共同偿还2万元借款及利息，诉讼费由被告承担。被告齐爱青的答辩意见是借款属实，但已经折抵了0.8万元，所以现在还剩1.2万元，因此不欠2万。\n",
      "\n",
      "然后，法院查明的事实：被告齐爱青、龙书贵在2014年11月11日共同向原告借款2万元，出具了借条，金额为20000元，日期是2014年11月11日。之后，原告多次催要未果，直到起诉。双方对借款金额没有争议，但关于利息，因为没有约定，所以从原告起诉之日起按年利率6%计算。\n",
      "\n",
      "关键点在于被告齐爱青的抗辩，她认为已经用砖折抵了0.8万元，但原告对此没有证据支持，因此法院不采纳她的意见。另外，被告龙书贵缺席，可能是因为未出庭应诉，导致无法核实其是否存在其他抗辩或反驳的情况。\n",
      "\n",
      "判决结果是被告齐爱青、龙书贵需在判决生效后五日内共同偿还2万元及利息，从起诉之日开始按年利率6%计算。案件受理费150元，由被告共同负担。\n",
      "\n",
      "需要注意的是，是否有其他细节，比如是否涉及担保人、保证责任等，但根据现有信息，主要围绕借款合同的履行和利息计算。此外，被告齐爱青的抗辩可能会影响利息的计算时间，但她未能提供证据支持折抵，所以法院未予认可。\n",
      "\n",
      "总结起来，要点包括：原告胜诉，被告需还款并支付利息，被告齐爱青的抗辩被驳回，且利息从起诉之日开始计算。</think><answer>以下是该民事判决书的大致要点：\n",
      "\n",
      "---\n",
      "\n",
      "### **一、案件基本信息**\n",
      "- **案号**：（2018）豫0526民初805号\n",
      "- **法院**：河南省滑县人民法院\n",
      "- **案由**：借款合同纠纷\n",
      "- **审理方式**：简易程序公开开庭审理\n",
      "- **被告缺席**：被告龙书贵未到庭，但判决仍对其作出处理\n",
      "- **原告诉求**：\n",
      "  - 请求被告齐爱青、龙书贵共同偿还借款2万元及利息（自起诉之日按年利率6%计算）\n",
      "  - 诉讼费由被告承担\n",
      "\n",
      "---\n",
      "\n",
      "### **二、争议焦点**\n",
      "- **借款本金是否已折抵**：被告齐爱青主张已用砖折抵0.8万元，但未提供证据，法院不予采纳。\n",
      "- **利息起算时间**：原告主张从起诉之日起算，法院支持。\n",
      "\n",
      "---\n",
      "\n",
      "### **三、法律关系**\n",
      "- **债权债务关系**：原告提供了借条，证明被告齐爱青、龙书贵共同借款2万元的事实。\n",
      "- **利息计算**：未约定利息，法院判决自起诉之日（2018年1月22日）起按年利率6%计算。\n",
      "\n",
      "---\n",
      "\n",
      "### **四、判决结果**\n",
      "- **被告须偿还**：齐爱青、龙书贵需共同偿还2万元本金及利息（自2018年1月22日起按年利率6%计算）。\n",
      "- **诉讼费承担**：案件受理费150元由两被告共同负担。\n",
      "\n",
      "---\n",
      "\n",
      "### **五、核心争议分析**\n",
      "1. **借款折抵争议**  \n",
      "   齐爱青主张用砖折抵0.8万元，但未提供证据支持，法院不予认可，表明被告需全额偿还剩余款项。\n",
      "\n",
      "2. **利息起算时间**  \n",
      "   法院认为，由于被告未及时归还，原告有权随时主张权利，因此利息从起诉之日开始计算，而非合同约定的还款期。\n",
      "\n",
      "---\n",
      "\n",
      "### **六、法律依据**\n",
      "- **《中华人民共和国民法通则》第84条**：债的成立必须有合法的债权债务关系。\n",
      "- **《中华人民共和国民事诉讼法》第144条**：被告无正当理由拒不到庭，可缺席判决。\n",
      "- **最高人民法院关于民间借贷利率司法解释**：自然人之间借贷可按年利率6%计算逾期利息。\n",
      "\n",
      "---\n",
      "\n",
      "### **七、案件启示**\n",
      "1. **证据的重要性**：被告需提供证据证明债务已清偿，否则将承担不利后果。\n",
      "2. **诉讼时效**：原告需在合理时间内主张权利，否则可能丧失胜诉权。\n",
      "3. **利息计算标准**：未约定利息时，可按年利率6%计算，但超过此标准需另行主张。\n",
      "\n",
      "---\n",
      "\n",
      "以上是该判决书的主要要点，涉及借款合同的成立、还款责任、利息计算以及法律适用等核心问题。</answer><|im_end|>\n"
     ]
    }
   ],
   "source": [
    "# alpaca_prompt = Copied from above\n",
    "FastLanguageModel.for_inference(model) # Enable native 2x faster inference\n",
    "inputs = tokenizer(\n",
    "[\n",
    "    alpaca_prompt.format(\n",
    "        \"请归纳这篇文书的大致要点 莫振红与齐爱青、龙书贵借款合同纠纷一审民事判决书 河南省滑县人民法院 民 事 判 决 书 （2018）豫0526民初805号原告莫振红，女，1973年3月3日生，汉族。 委托代理人孟帅、李亚廷（实习），河南卓誉律师事务所律师。 被告齐爱青，女，1968年2月28日生，汉族。 被告龙书贵，男，1964年2月3日生，汉族。 原告莫振红诉被告齐爱青、龙书贵借款合同纠纷一案，本院受理后，依法适用简易程序，公开开庭进行了审理。 原告莫振红的委托代理人孟帅、被告齐爱青到庭参加诉讼，被告龙书贵经传票传唤未到庭参加诉讼。 本案现已审理终结。 原告莫振红诉称，2014年11月11日，二被告向原告借款2万元，并向原告出具了借条一份。 后经多次催要，被告均以各种理由推拖没有偿还原告。 起诉请求依法判令被告偿还原告借款2万元及利息； 诉讼费用由被告承担。 被告齐爱青辩称，借款属实，但中间原告拉走3车砖折抵借款0.8万元，尚欠1.2万元，故被告现在不欠原告2万元钱。 被告龙书贵缺席未答辩。 经审理查明：2014年11月11日，被告齐爱青、龙书贵共同向原告借款2万元，并出具借条一份，内容为：“今借到现金贰万元正￥20000元2014年11月11日齐爱青龙书贵。” 上述借款至今未予偿还。 以上事实，有原告提交的借条及原、被告部分庭审陈述可以证实，上述证据经庭审质证，可以作为认定本案事实的依据。 本院认为，被告齐爱青、龙书贵共同向原告借款2万元，有原告提供的被告齐爱青、龙书贵签名确认的借条予以证实，故被告齐爱青、龙书贵负有共同偿还的责任。 关于利息，因未明确约定，应自原告主张权利时即起诉之日起，按年利率6%计算。 被告齐爱青主张原告拉砖三车即已经折抵借款0.8万元及其他辩解意见，均证据不足，依法不予采信。 根据《中华人民共和国民法通则》第八十四条、第一百零八条，《中华人民共和国民事诉讼法》第六十四条、第一百四十四条的规定，判决如下：被告齐爱青、龙书贵于本判决生效后五日内共同偿还原告莫振红借款人民币2万元及利息（自2018年1月22日起，按照年利率6%计算至本判决限定的履行期限届满之日止）。 如果未按本判决指定的期间履行给付金钱义务，应当依照《中华人民共和国民事诉讼法》第二百五十三条之规定，加倍支付迟延履行期间的债务利息。 案件受理费300元，减半收取150元，被告齐爱青、龙书贵共同负担。 如不服本判决，可在判决送达之日起十五日内，向本院递交上诉状，并按当事人的人数提出副本，上诉于河南省安阳市中级人民法院。 审判员　　张兴政 二〇一八年二月二十二日 书记员　　王舒舒\", # input\n",
    "        \"\", # output - leave this blank for generation!\n",
    "    )\n",
    "], return_tensors = \"pt\").to(\"cuda\")\n",
    "\n",
    "from transformers import TextStreamer\n",
    "text_streamer = TextStreamer(tokenizer)\n",
    "_ = model.generate(**inputs, streamer = text_streamer, max_new_tokens = 1280)"
   ]
  },
  {
   "cell_type": "code",
   "execution_count": 7,
   "id": "8b4f8690-dc2e-4ffb-af57-271ebdb3f093",
   "metadata": {},
   "outputs": [
    {
     "data": {
      "text/plain": [
       "('../model/lora_3b_model/tokenizer_config.json',\n",
       " '../model/lora_3b_model/special_tokens_map.json',\n",
       " '../model/lora_3b_model/chat_template.jinja',\n",
       " '../model/lora_3b_model/vocab.json',\n",
       " '../model/lora_3b_model/merges.txt',\n",
       " '../model/lora_3b_model/added_tokens.json',\n",
       " '../model/lora_3b_model/tokenizer.json')"
      ]
     },
     "execution_count": 7,
     "metadata": {},
     "output_type": "execute_result"
    }
   ],
   "source": [
    "model.save_pretrained(\"../model/lora_3b_model\")  # Local saving\n",
    "tokenizer.save_pretrained(\"../model/lora_3b_model\")\n",
    "# model.push_to_hub(\"your_name/lora_model\", token = \"...\") # Online saving\n",
    "# tokenizer.push_to_hub(\"your_name/lora_model\", token = \"...\") # Online saving"
   ]
  },
  {
   "cell_type": "code",
   "execution_count": 8,
   "id": "cce00b16-57fc-4d9d-8313-02a5e81544f2",
   "metadata": {},
   "outputs": [
    {
     "name": "stdout",
     "output_type": "stream",
     "text": [
      "Unsloth: Merging 4bit and LoRA weights to 16bit...\n",
      "Unsloth: Will use up to 328.77 out of 503.19 RAM for saving.\n",
      "Unsloth: Saving model... This might take 5 minutes ...\n"
     ]
    },
    {
     "name": "stderr",
     "output_type": "stream",
     "text": [
      "100%|█████████████████████████████████████████████████████████| 36/36 [00:00<00:00, 56.26it/s]\n"
     ]
    },
    {
     "name": "stdout",
     "output_type": "stream",
     "text": [
      "Unsloth: Saving tokenizer... Done.\n",
      "Done.\n"
     ]
    }
   ],
   "source": [
    "if True: model.save_pretrained_merged(\"../model/law_3b_f16\", tokenizer, save_method = \"merged_16bit\")"
   ]
  },
  {
   "cell_type": "code",
   "execution_count": null,
   "id": "c480edb1-b66c-4ad9-b603-10c1c8318747",
   "metadata": {},
   "outputs": [],
   "source": []
  }
 ],
 "metadata": {
  "kernelspec": {
   "display_name": "unsloth",
   "language": "python",
   "name": "unsloth"
  },
  "language_info": {
   "codemirror_mode": {
    "name": "ipython",
    "version": 3
   },
   "file_extension": ".py",
   "mimetype": "text/x-python",
   "name": "python",
   "nbconvert_exporter": "python",
   "pygments_lexer": "ipython3",
   "version": "3.10.16"
  }
 },
 "nbformat": 4,
 "nbformat_minor": 5
}
