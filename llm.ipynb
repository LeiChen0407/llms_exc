{
 "cells": [
  {
   "cell_type": "markdown",
   "id": "d035c0ac",
   "metadata": {
    "vscode": {
     "languageId": "plaintext"
    }
   },
   "source": [
    "## llm 评测逻辑\n",
    "1.客观评测：\n",
    "- 客观选择题：有具体答案，ABCD等\n",
    "- 客观问答题：例如中国首都是哪里，也有具体答案，但需要通过正则匹配，从模型中得到真正的回答\n",
    "2.主观评测：例如，写诗词，需要人为进行打分，或者使用更好的模型进行打分（如GPT-4O）"
   ]
  },
  {
   "cell_type": "markdown",
   "id": "b05485ab",
   "metadata": {},
   "source": [
    "### reason model\n",
    "\n",
    "#### reason\n",
    "- 通过思考的方法来提高模型回答的准确率，而不是简单的包含一个推理<think></think>的格式\n",
    "- 在思考的过程中，不断地检查自己的输出，进行自我验证（需要建立在非常大的context window）\n",
    "- 在进行多轮对话的时候，之前的思考并不会加入到模型的context window当中\n",
    "- 简单的问题应该是不用进行思考的，例如中国的首都在哪，复杂的问题才需要进行思考\n",
    "![](./image/1749905438920.jpg)\n",
    "\n",
    "- pretrain>>SFT>>RL (学习一本数学书)\n",
    "- pretrian>>学习书上的知识点（定理、公式等）\n",
    "- SFT>>学习书上的例题（有题目有答案）\n",
    "- RL>>解决书上的课后习题"
   ]
  },
  {
   "cell_type": "markdown",
   "id": "ff6c4c5e",
   "metadata": {},
   "source": []
  }
 ],
 "metadata": {
  "language_info": {
   "name": "python"
  }
 },
 "nbformat": 4,
 "nbformat_minor": 5
}
