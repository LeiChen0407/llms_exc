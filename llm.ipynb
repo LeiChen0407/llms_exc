{
 "cells": [
  {
   "cell_type": "markdown",
   "id": "d035c0ac",
   "metadata": {
    "vscode": {
     "languageId": "plaintext"
    }
   },
   "source": [
    "## llm 评测逻辑\n",
    "1.客观评测：\n",
    "- 客观选择题：有具体答案，ABCD等\n",
    "- 客观问答题：例如中国首都是哪里，也有具体答案，但需要通过正则匹配，从模型中得到真正的回答\n",
    "2.主观评测：例如，写诗词，需要人为进行打分，或者使用更好的模型进行打分（如GPT-4O）"
   ]
  }
 ],
 "metadata": {
  "language_info": {
   "name": "python"
  }
 },
 "nbformat": 4,
 "nbformat_minor": 5
}
