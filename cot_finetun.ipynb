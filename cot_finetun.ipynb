{
 "cells": [
  {
   "cell_type": "code",
   "execution_count": 1,
   "id": "1bdaf18c-7e5a-415b-aebf-25823b719652",
   "metadata": {},
   "outputs": [
    {
     "name": "stdout",
     "output_type": "stream",
     "text": [
      "🦥 Unsloth: Will patch your computer to enable 2x faster free finetuning.\n",
      "🦥 Unsloth Zoo will now patch everything to make training faster!\n",
      "==((====))==  Unsloth 2025.3.19: Fast Qwen2 patching. Transformers: 4.50.3.\n",
      "   \\\\   /|    NVIDIA A30. Num GPUs = 1. Max memory: 23.486 GB. Platform: Linux.\n",
      "O^O/ \\_/ \\    Torch: 2.6.0+cu124. CUDA: 8.0. CUDA Toolkit: 12.4. Triton: 3.2.0\n",
      "\\        /    Bfloat16 = TRUE. FA [Xformers = 0.0.29.post3. FA2 = False]\n",
      " \"-____-\"     Free license: http://github.com/unslothai/unsloth\n",
      "Unsloth: Fast downloading is enabled - ignore downloading bars which are red colored!\n"
     ]
    },
    {
     "name": "stderr",
     "output_type": "stream",
     "text": [
      "Sliding Window Attention is enabled but not implemented for `eager`; unexpected results may be encountered.\n"
     ]
    }
   ],
   "source": [
    "from unsloth import FastLanguageModel\n",
    "import torch\n",
    "max_seq_length = 4096 # Choose any! We auto support RoPE Scaling internally!\n",
    "dtype = None # None for auto detection. Float16 for Tesla T4, V100, Bfloat16 for Ampere+\n",
    "load_in_8bit = False # Use 4bit quantization to reduce memory usage. Can be False.\n",
    "\n",
    "model, tokenizer = FastLanguageModel.from_pretrained(\n",
    "    model_name = \"./model/qwen1.5b-f16\",\n",
    "    max_seq_length = max_seq_length,\n",
    "    dtype = dtype,\n",
    "    load_in_4bit = False,\n",
    "    load_in_8bit = load_in_8bit,\n",
    "    # token = \"hf_...\", # use one if using gated models like meta-llama/Llama-2-7b-hf\n",
    ")"
   ]
  },
  {
   "cell_type": "code",
   "execution_count": 2,
   "id": "5bcc2b03-d024-4069-a230-87fd392147b0",
   "metadata": {},
   "outputs": [
    {
     "name": "stderr",
     "output_type": "stream",
     "text": [
      "Unsloth 2025.3.19 patched 28 layers with 28 QKV layers, 28 O layers and 28 MLP layers.\n"
     ]
    }
   ],
   "source": [
    "model = FastLanguageModel.get_peft_model(\n",
    "    model,\n",
    "    r = 32, # Choose any number > 0 ! Suggested 8, 16, 32, 64, 128\n",
    "    target_modules = [\"q_proj\", \"k_proj\", \"v_proj\", \"o_proj\",\n",
    "                      \"gate_proj\", \"up_proj\", \"down_proj\",],\n",
    "    lora_alpha = 16,\n",
    "    lora_dropout = 0, # Supports any, but = 0 is optimized\n",
    "    bias = \"none\",    # Supports any, but = \"none\" is optimized\n",
    "    # [NEW] \"unsloth\" uses 30% less VRAM, fits 2x larger batch sizes!\n",
    "    use_gradient_checkpointing = \"unsloth\", # True or \"unsloth\" for very long context\n",
    "    random_state = 3407,\n",
    "    use_rslora = False,  # We support rank stabilized LoRA\n",
    "    loftq_config = None, # And LoftQ\n",
    ")"
   ]
  },
  {
   "cell_type": "code",
   "execution_count": 3,
   "id": "77d0e286-b569-4587-af7b-10b3cd93b765",
   "metadata": {},
   "outputs": [
    {
     "data": {
      "application/vnd.jupyter.widget-view+json": {
       "model_id": "28d63dc10fad4f77906e95eadb7caea9",
       "version_major": 2,
       "version_minor": 0
      },
      "text/plain": [
       "Generating train split: 0 examples [00:00, ? examples/s]"
      ]
     },
     "metadata": {},
     "output_type": "display_data"
    },
    {
     "data": {
      "application/vnd.jupyter.widget-view+json": {
       "model_id": "c7c5cb62eeb8446292377a0b383422a5",
       "version_major": 2,
       "version_minor": 0
      },
      "text/plain": [
       "Map:   0%|          | 0/10877 [00:00<?, ? examples/s]"
      ]
     },
     "metadata": {},
     "output_type": "display_data"
    }
   ],
   "source": [
    "alpaca_prompt = \"\"\"请根据给定问题，按照以下格式生成答案：首先，展示你在思考问题时的过程（用<think>标签包裹），然后给出最终的答案（用<answer>标签包裹）。确保思考过程清晰，逐步推理，并最终给出完整的回答。\n",
    "\n",
    "### Input:\n",
    "{}\n",
    "\n",
    "### Response:\n",
    "{}\"\"\"\n",
    "\n",
    "EOS_TOKEN = tokenizer.eos_token # Must add EOS_TOKEN\n",
    "def formatting_prompts_func(examples):\n",
    "    inputs       = examples[\"input\"]\n",
    "    outputs      = examples[\"output\"]\n",
    "    texts = []\n",
    "    for input, output in zip(inputs, outputs):\n",
    "        # Must add EOS_TOKEN, otherwise your generation will go on forever!\n",
    "        text = alpaca_prompt.format(input, output) + EOS_TOKEN\n",
    "        texts.append(text)\n",
    "    return { \"text\" : texts, }\n",
    "pass\n",
    "\n",
    "from datasets import load_dataset\n",
    "dataset = load_dataset(\"./Data/law_cot/\", split = \"train\")\n",
    "dataset = dataset.map(formatting_prompts_func, batched = True,)"
   ]
  },
  {
   "cell_type": "code",
   "execution_count": 4,
   "id": "8fd90677-6da4-4eeb-a4db-ce353b05942f",
   "metadata": {},
   "outputs": [
    {
     "data": {
      "application/vnd.jupyter.widget-view+json": {
       "model_id": "e89e9c1a219340f5aefb12e9e12623cb",
       "version_major": 2,
       "version_minor": 0
      },
      "text/plain": [
       "Unsloth: Tokenizing [\"text\"] (num_proc=2):   0%|          | 0/10877 [00:00<?, ? examples/s]"
      ]
     },
     "metadata": {},
     "output_type": "display_data"
    },
    {
     "name": "stderr",
     "output_type": "stream",
     "text": [
      "Detected kernel version 3.10.0, which is below the recommended minimum of 5.5.0; this can cause the process to hang. It is recommended to upgrade the kernel to the minimum version or higher.\n"
     ]
    }
   ],
   "source": [
    "from trl import SFTTrainer\n",
    "from transformers import TrainingArguments\n",
    "from unsloth import is_bfloat16_supported\n",
    "\n",
    "trainer = SFTTrainer(\n",
    "    model = model,\n",
    "    tokenizer = tokenizer,\n",
    "    train_dataset = dataset,\n",
    "    dataset_text_field = \"text\",\n",
    "    max_seq_length = max_seq_length,\n",
    "    dataset_num_proc = 2,\n",
    "    packing = False, # Can make training 5x faster for short sequences.\n",
    "    args = TrainingArguments(\n",
    "        per_device_train_batch_size = 2,\n",
    "        gradient_accumulation_steps = 4,\n",
    "        warmup_steps = 5,\n",
    "        num_train_epochs = 1, # Set this for 1 full training run.\n",
    "        # max_steps = 60,\n",
    "        learning_rate = 2e-4,\n",
    "        fp16 = not is_bfloat16_supported(),\n",
    "        bf16 = is_bfloat16_supported(),\n",
    "        logging_steps = 1,\n",
    "        optim = \"adamw_8bit\",\n",
    "        weight_decay = 0.01,\n",
    "        lr_scheduler_type = \"linear\",\n",
    "        seed = 3409,\n",
    "        output_dir = \"outputs\",\n",
    "        report_to = \"none\", # Use this for WandB etc\n",
    "    ),\n",
    ")"
   ]
  },
  {
   "cell_type": "code",
   "execution_count": null,
   "id": "cb094e4e-7894-44b5-ba5a-1d322c5ec842",
   "metadata": {},
   "outputs": [],
   "source": [
    "trainer_stats = trainer.train()"
   ]
  },
  {
   "cell_type": "code",
   "execution_count": 6,
   "id": "c430decf-5e86-4f44-ac89-be04176fccda",
   "metadata": {},
   "outputs": [
    {
     "name": "stdout",
     "output_type": "stream",
     "text": [
      "请根据给定问题，按照以下格式生成答案：首先，展示你在思考问题时的过程（用<think>标签包裹），然后给出最终的答案（用<answer>标签包裹）。确保思考过程清晰，逐步推理，并最终给出完整的回答。\n",
      "\n",
      "### Input:\n",
      "请归纳这篇文书的大致要点 莫振红与齐爱青、龙书贵借款合同纠纷一审民事判决书 河南省滑县人民法院 民 事 判 决 书 （2018）豫0526民初805号原告莫振红，女，1973年3月3日生，汉族。 委托代理人孟帅、李亚廷（实习），河南卓誉律师事务所律师。 被告齐爱青，女，1968年2月28日生，汉族。 被告龙书贵，男，1964年2月3日生，汉族。 原告莫振红诉被告齐爱青、龙书贵借款合同纠纷一案，本院受理后，依法适用简易程序，公开开庭进行了审理。 原告莫振红的委托代理人孟帅、被告齐爱青到庭参加诉讼，被告龙书贵经传票传唤未到庭参加诉讼。 本案现已审理终结。 原告莫振红诉称，2014年11月11日，二被告向原告借款2万元，并向原告出具了借条一份。 后经多次催要，被告均以各种理由推拖没有偿还原告。 起诉请求依法判令被告偿还原告借款2万元及利息； 诉讼费用由被告承担。 被告齐爱青辩称，借款属实，但中间原告拉走3车砖折抵借款0.8万元，尚欠1.2万元，故被告现在不欠原告2万元钱。 被告龙书贵缺席未答辩。 经审理查明：2014年11月11日，被告齐爱青、龙书贵共同向原告借款2万元，并出具借条一份，内容为：“今借到现金贰万元正￥20000元2014年11月11日齐爱青龙书贵。” 上述借款至今未予偿还。 以上事实，有原告提交的借条及原、被告部分庭审陈述可以证实，上述证据经庭审质证，可以作为认定本案事实的依据。 本院认为，被告齐爱青、龙书贵共同向原告借款2万元，有原告提供的被告齐爱青、龙书贵签名确认的借条予以证实，故被告齐爱青、龙书贵负有共同偿还的责任。 关于利息，因未明确约定，应自原告主张权利时即起诉之日起，按年利率6%计算。 被告齐爱青主张原告拉砖三车即已经折抵借款0.8万元及其他辩解意见，均证据不足，依法不予采信。 根据《中华人民共和国民法通则》第八十四条、第一百零八条，《中华人民共和国民事诉讼法》第六十四条、第一百四十四条的规定，判决如下：被告齐爱青、龙书贵于本判决生效后五日内共同偿还原告莫振红借款人民币2万元及利息（自2018年1月22日起，按照年利率6%计算至本判决限定的履行期限届满之日止）。 如果未按本判决指定的期间履行给付金钱义务，应当依照《中华人民共和国民事诉讼法》第二百五十三条之规定，加倍支付迟延履行期间的债务利息。 案件受理费300元，减半收取150元，被告齐爱青、龙书贵共同负担。 如不服本判决，可在判决送达之日起十五日内，向本院递交上诉状，并按当事人的人数提出副本，上诉于河南省安阳市中级人民法院。 审判员　　张兴政 二〇一八年二月二十二日 书记员　　王舒舒\n",
      "\n",
      "### Response:\n",
      "<think></think><answer><think>\n",
      "\n",
      "嗯，我现在需要归纳这个民事判决书的主要要点。首先，我得仔细看看用户提供的文本内容，然后从中提取关键信息。让我先通读一遍整个案例描述。\n",
      "\n",
      "案件是关于莫振红和齐爱青、龙书贵之间的借款合同纠纷。法院是河南省滑县人民法院，案号是（2018）豫0526民初805号。原告是莫振红，被告有两个，分别是齐爱青和龙书贵。他们都是女性，年龄可能在40岁左右？\n",
      "\n",
      "接下来，原告的诉求是要求两被告偿还2万元借款以及利息，还有诉讼费用由被告承担。而被告齐爱青承认借款的事实，但声称自己已经通过拉砖的方式将其中的一部分抵扣了，总共还剩1.2万。不过她提到的“拉砖”具体是什么情况呢？比如是否真的有实际发生的交易，或者只是口头协议？\n",
      "\n",
      "然后被告龙书贵没有出庭，也没有答辩，这说明他可能放弃了抗辩的权利，或者因为某种原因没来参加诉讼。另外，被告齐爱青提供了借条作为证据，上面写的是2万元，时间也是2014年111日，也就是三年前了。所以这笔借款应该是在那一年形成的。\n",
      "\n",
      "法院审理过程中，双方对借条的真实性没有争议，因此支持了原告的诉求。但是关于利息的问题，原告主张从起诉日期开始算起，也就是2018年的1月22日，按年利率6%计算。这里需要注意，利息是从什么时候开始计算的？通常如果是一般的借贷关系，可能会从还款期开始算，但如果没有明确约定，可能视为逾期后的利息。\n",
      "\n",
      "另外，关于利息的计算方式，用户提供的原文里说“自2018年1月22日起”，可能是指起诉时开始计算，还是从借款到期或最后还款日开始？这点可能需要进一步分析。不过根据法律常识，在没有特别约定的情况下，一般会从贷款人主张权利的时间点开始计算利息，也就是起诉之日。\n",
      "\n",
      "至于利息的标准，中国民间借贷中常见的利率上限是年利率24%，超过的部分不受保护。所以这里虽然用了6%，可能属于合法范围，但要看具体的金额。例如，2万元乘以6%就是每年600元，五年的话大约是3000元，加上其他因素可能合理，但如果是短期借款，可能符合当地习惯。\n",
      "\n",
      "被告齐爱青提到的“拉砖”折抵0.8万元的情况，法院没有采纳，这可能是基于缺乏有效证据，或者她的说法被驳回。比如，如果没有凭证证明确实存在这样的抵债行为，那么这部分主张就没有足够的证据支持。\n",
      "\n",
      "总结一下，主要要点应该是：\n",
      "\n",
      "1. 借款事实：2014年111日借款2万元，有借条为证。\n",
      "2. 违约情况：两被告未按时还款，已过诉讼时效？\n",
      "3. 对方抗辩：齐爱青主张抵扣，但未提供证据，法院不认可。\n",
      "4. 法律依据：引用了民法通则和民事诉讼法的相关条款。\n",
      "5. 利息计算：年利率6%，从起诉日开始。\n",
      "6. 其他：诉讼费用分担，被告需共同承担。\n",
      "\n",
      "有没有遗漏的地方呢？比如案件受理费的具体数额，减半收取150元，被告各承担一半，这也是判决的一部分。另外，如果被告未按期履行，还要加倍支付迟延履行金，但这里可能暂时不需要详细说明。\n",
      "\n",
      "再检查是否有其他细节需要注意，比如案件经过的审理程序，适用简易程序，被告龙书贵缺席审判等，这些在摘要中可能不需要太深入，只要知道基本流程即可。\n",
      "\n",
      "好的，这样整理下来应该涵盖了主要点。</answer><|im_end|>\n"
     ]
    }
   ],
   "source": [
    "# alpaca_prompt = Copied from above\n",
    "FastLanguageModel.for_inference(model) # Enable native 2x faster inference\n",
    "inputs = tokenizer(\n",
    "[\n",
    "    alpaca_prompt.format(\n",
    "        \"请归纳这篇文书的大致要点 莫振红与齐爱青、龙书贵借款合同纠纷一审民事判决书 河南省滑县人民法院 民 事 判 决 书 （2018）豫0526民初805号原告莫振红，女，1973年3月3日生，汉族。 委托代理人孟帅、李亚廷（实习），河南卓誉律师事务所律师。 被告齐爱青，女，1968年2月28日生，汉族。 被告龙书贵，男，1964年2月3日生，汉族。 原告莫振红诉被告齐爱青、龙书贵借款合同纠纷一案，本院受理后，依法适用简易程序，公开开庭进行了审理。 原告莫振红的委托代理人孟帅、被告齐爱青到庭参加诉讼，被告龙书贵经传票传唤未到庭参加诉讼。 本案现已审理终结。 原告莫振红诉称，2014年11月11日，二被告向原告借款2万元，并向原告出具了借条一份。 后经多次催要，被告均以各种理由推拖没有偿还原告。 起诉请求依法判令被告偿还原告借款2万元及利息； 诉讼费用由被告承担。 被告齐爱青辩称，借款属实，但中间原告拉走3车砖折抵借款0.8万元，尚欠1.2万元，故被告现在不欠原告2万元钱。 被告龙书贵缺席未答辩。 经审理查明：2014年11月11日，被告齐爱青、龙书贵共同向原告借款2万元，并出具借条一份，内容为：“今借到现金贰万元正￥20000元2014年11月11日齐爱青龙书贵。” 上述借款至今未予偿还。 以上事实，有原告提交的借条及原、被告部分庭审陈述可以证实，上述证据经庭审质证，可以作为认定本案事实的依据。 本院认为，被告齐爱青、龙书贵共同向原告借款2万元，有原告提供的被告齐爱青、龙书贵签名确认的借条予以证实，故被告齐爱青、龙书贵负有共同偿还的责任。 关于利息，因未明确约定，应自原告主张权利时即起诉之日起，按年利率6%计算。 被告齐爱青主张原告拉砖三车即已经折抵借款0.8万元及其他辩解意见，均证据不足，依法不予采信。 根据《中华人民共和国民法通则》第八十四条、第一百零八条，《中华人民共和国民事诉讼法》第六十四条、第一百四十四条的规定，判决如下：被告齐爱青、龙书贵于本判决生效后五日内共同偿还原告莫振红借款人民币2万元及利息（自2018年1月22日起，按照年利率6%计算至本判决限定的履行期限届满之日止）。 如果未按本判决指定的期间履行给付金钱义务，应当依照《中华人民共和国民事诉讼法》第二百五十三条之规定，加倍支付迟延履行期间的债务利息。 案件受理费300元，减半收取150元，被告齐爱青、龙书贵共同负担。 如不服本判决，可在判决送达之日起十五日内，向本院递交上诉状，并按当事人的人数提出副本，上诉于河南省安阳市中级人民法院。 审判员　　张兴政 二〇一八年二月二十二日 书记员　　王舒舒\", # input\n",
    "        \"\", # output - leave this blank for generation!\n",
    "    )\n",
    "], return_tensors = \"pt\").to(\"cuda\")\n",
    "\n",
    "from transformers import TextStreamer\n",
    "text_streamer = TextStreamer(tokenizer)\n",
    "_ = model.generate(**inputs, streamer = text_streamer, max_new_tokens = 1280)"
   ]
  },
  {
   "cell_type": "code",
   "execution_count": 7,
   "id": "8b4f8690-dc2e-4ffb-af57-271ebdb3f093",
   "metadata": {},
   "outputs": [
    {
     "data": {
      "text/plain": [
       "('./model/cot_law_lora_model/tokenizer_config.json',\n",
       " './model/cot_law_lora_model/special_tokens_map.json',\n",
       " './model/cot_law_lora_model/vocab.json',\n",
       " './model/cot_law_lora_model/merges.txt',\n",
       " './model/cot_law_lora_model/added_tokens.json',\n",
       " './model/cot_law_lora_model/tokenizer.json')"
      ]
     },
     "execution_count": 7,
     "metadata": {},
     "output_type": "execute_result"
    }
   ],
   "source": [
    "model.save_pretrained(\"./model/cot_law_lora_model\")  # Local saving\n",
    "tokenizer.save_pretrained(\"./model/cot_law_lora_model\")\n",
    "# model.push_to_hub(\"your_name/lora_model\", token = \"...\") # Online saving\n",
    "# tokenizer.push_to_hub(\"your_name/lora_model\", token = \"...\") # Online saving"
   ]
  },
  {
   "cell_type": "code",
   "execution_count": null,
   "id": "cce00b16-57fc-4d9d-8313-02a5e81544f2",
   "metadata": {},
   "outputs": [
    {
     "name": "stdout",
     "output_type": "stream",
     "text": [
      "Unsloth: Merging 4bit and LoRA weights to 16bit...\n",
      "Unsloth: Will use up to 341.55 out of 503.19 RAM for saving.\n",
      "Unsloth: Saving model... This might take 5 minutes ...\n"
     ]
    },
    {
     "name": "stderr",
     "output_type": "stream",
     "text": [
      "100%|███████████████████████████████████████████| 28/28 [00:00<00:00, 30.98it/s]\n"
     ]
    },
    {
     "name": "stdout",
     "output_type": "stream",
     "text": [
      "Unsloth: Saving tokenizer... Done.\n",
      "Done.\n"
     ]
    }
   ],
   "source": [
    "if True: model.save_pretrained_merged(\"./model/cot_law-f16\", tokenizer, save_method = \"merged_16bit\",)"
   ]
  },
  {
   "cell_type": "code",
   "execution_count": null,
   "id": "c480edb1-b66c-4ad9-b603-10c1c8318747",
   "metadata": {},
   "outputs": [],
   "source": []
  }
 ],
 "metadata": {
  "kernelspec": {
   "display_name": "Python 3 (ipykernel)",
   "language": "python",
   "name": "python3"
  },
  "language_info": {
   "codemirror_mode": {
    "name": "ipython",
    "version": 3
   },
   "file_extension": ".py",
   "mimetype": "text/x-python",
   "name": "python",
   "nbconvert_exporter": "python",
   "pygments_lexer": "ipython3",
   "version": "3.11.11"
  }
 },
 "nbformat": 4,
 "nbformat_minor": 5
}
