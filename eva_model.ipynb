{
 "cells": [
  {
   "cell_type": "code",
   "execution_count": 1,
   "id": "396b5ac4-c768-4a3a-a8f2-0cf209b3f4ce",
   "metadata": {},
   "outputs": [
    {
     "name": "stderr",
     "output_type": "stream",
     "text": [
      "/root/miniconda3/envs/llm/lib/python3.10/site-packages/tqdm/auto.py:21: TqdmWarning: IProgress not found. Please update jupyter and ipywidgets. See https://ipywidgets.readthedocs.io/en/stable/user_install.html\n",
      "  from .autonotebook import tqdm as notebook_tqdm\n",
      "[4pdvGPU Msg(72319:139897580648256:libvgpu.c:869)]: Initializing.....\n",
      "[4pdvGPU Warn(72319:139897580648256:hook.c:475)]: remap handles for device 0\n",
      "[4pdvGPU Warn(72319:139897580648256:hook.c:475)]: remap handles for device 1\n"
     ]
    }
   ],
   "source": [
    "from transformers import AutoModelForCausalLM,AutoTokenizer\n",
    "import pandas as pd\n"
   ]
  },
  {
   "cell_type": "code",
   "execution_count": 2,
   "id": "63d85441-b8fa-40a6-840d-accb43ff7ad5",
   "metadata": {},
   "outputs": [],
   "source": [
    "csv_list = [\"mcq_sing_cpa.csv\",\"mcq_sing_lbk.csv\",\"mcq_sing_nje.csv\",\"mcq_sing_pae.csv\",\n",
    "           \"mcq_sing_pfe.csv\",\"mcq_sing_ungee.csv\"]"
   ]
  },
  {
   "cell_type": "markdown",
   "id": "069e0ee9-5871-4921-ad7c-087419f6eca4",
   "metadata": {},
   "source": [
    "### base model"
   ]
  },
  {
   "cell_type": "code",
   "execution_count": 3,
   "id": "b7e6d6f8-6fb4-46a9-9a03-6cfcb11f5230",
   "metadata": {},
   "outputs": [
    {
     "name": "stderr",
     "output_type": "stream",
     "text": [
      "[4pdvGPU Warn(72319:139897580648256:utils.c:228)]: get default cuda 2 from (null)\n",
      "[4pdvGPU Msg(72319:139897580648256:libvgpu.c:902)]: Initialized\n",
      "[4pdvGPU Msg(72319:139897580648256:memory.c:566)]: orig free=24971051008 total=25217466368 limit=25769803776 usage=236978176\n",
      "[4pdvGPU Msg(72319:139897580648256:memory.c:566)]: orig free=24971051008 total=25217466368 limit=25769803776 usage=236978176\n",
      "Loading checkpoint shards:   0%|                     | 0/2 [00:00<?, ?it/s][4pdvGPU Msg(72319:139897580648256:memory.c:566)]: orig free=24971051008 total=25217466368 limit=25769803776 usage=236978176\n",
      "[4pdvGPU Msg(72319:139897580648256:memory.c:566)]: orig free=24971051008 total=25217466368 limit=25769803776 usage=236978176\n",
      "Loading checkpoint shards: 100%|█████████████| 2/2 [00:03<00:00,  1.66s/it]\n",
      "[4pdvGPU Warn(72404:140421367076672:hook.c:475)]: remap handles for device 0\n",
      "[4pdvGPU Warn(72404:140421367076672:hook.c:475)]: remap handles for device 1\n"
     ]
    }
   ],
   "source": [
    "model_name = \"../model/Qwen2.5-3B-Instruct\"\n",
    "\n",
    "# load the tokenizer and the model\n",
    "tokenizer = AutoTokenizer.from_pretrained(model_name)\n",
    "model = AutoModelForCausalLM.from_pretrained(\n",
    "    model_name,\n",
    "    torch_dtype=\"auto\",\n",
    "    device_map=\"auto\"\n",
    ")"
   ]
  },
  {
   "cell_type": "code",
   "execution_count": 4,
   "id": "14ae7820-d923-4d8e-8275-c96db95c2165",
   "metadata": {},
   "outputs": [
    {
     "name": "stdout",
     "output_type": "stream",
     "text": [
      "134\n",
      "340\n",
      "583\n",
      "638\n",
      "766\n",
      "991\n",
      "0.6128633271490415\n"
     ]
    }
   ],
   "source": [
    "path = \"../data/val_csv_single/\"\n",
    "total_len=0\n",
    "answer = []\n",
    "acc = 0\n",
    "for name in csv_list:\n",
    "    csv_name = \"\".join([path,name])\n",
    "    df = pd.read_csv(csv_name)\n",
    "    total_len += len(df)\n",
    "    for i in range(len(df)):\n",
    "        prompt = f\"\"\"\n",
    "        这是一个关于法律问题的单项选择题,请根据题目选择正确的选项(只需要回答正确选项即可，不需要进行分析)：\\n\n",
    "        问题：{df[\"input\"][i]}\\n\n",
    "        A：{df[\"A\"][i]}\\n\n",
    "        B:{df[\"B\"][i]}\\n\n",
    "        C:{df[\"C\"][i]}\\n\n",
    "        D:{df[\"D\"][i]}\\n\n",
    "        \"\"\"\n",
    "        messages = [\n",
    "            {\"role\": \"user\", \"content\": prompt}\n",
    "        ]\n",
    "        text = tokenizer.apply_chat_template(\n",
    "            messages,\n",
    "            tokenize=False,\n",
    "            add_generation_prompt=True,\n",
    "        )\n",
    "        model_inputs = tokenizer([text], return_tensors=\"pt\").to(model.device)\n",
    "        \n",
    "        # conduct text completion\n",
    "        generated_ids = model.generate(\n",
    "            **model_inputs,\n",
    "            max_new_tokens=50\n",
    "        )\n",
    "        \n",
    "        content = tokenizer.decode(generated_ids[0][model_inputs.input_ids.shape[1]:], skip_special_tokens=True).strip(\"\\n\")\n",
    "        if content[0] ==  df[\"output\"][i]:\n",
    "            acc += 1    \n",
    "        answer.append(content[0])\n",
    "    print(acc)\n",
    "persentage = acc/total_len\n",
    "print(persentage)"
   ]
  },
  {
   "cell_type": "code",
   "execution_count": 5,
   "id": "624a04e0-956a-4d7c-9625-dd60d7ae1001",
   "metadata": {},
   "outputs": [
    {
     "data": {
      "text/plain": [
       "True"
      ]
     },
     "execution_count": 5,
     "metadata": {},
     "output_type": "execute_result"
    }
   ],
   "source": [
    "def contains_only_allowed_chars(lst, allowed_chars={'A', 'B', 'C', 'D'}):\n",
    "    # 将列表转换为大写，并检查是否是允许字符的子集\n",
    "    return set(x.upper() for x in lst).issubset(allowed_chars)\n",
    "contains_only_allowed_chars(answer)"
   ]
  },
  {
   "cell_type": "markdown",
   "id": "513babd3-f9dd-44fd-8012-dfe9c6243744",
   "metadata": {},
   "source": [
    "### cot_model"
   ]
  },
  {
   "cell_type": "code",
   "execution_count": 6,
   "id": "1cdeb8a8-33e6-4840-a2d2-b5b076f6bf28",
   "metadata": {},
   "outputs": [
    {
     "name": "stderr",
     "output_type": "stream",
     "text": [
      "[4pdvGPU Msg(72319:139897580648256:memory.c:566)]: orig free=21152137216 total=25217466368 limit=25769803776 usage=4003595264\n",
      "[4pdvGPU Msg(72319:139897580648256:memory.c:566)]: orig free=21745631232 total=25217466368 limit=25769803776 usage=3410101248\n",
      "Loading checkpoint shards:   0%|                     | 0/2 [00:00<?, ?it/s][4pdvGPU Msg(72319:139897580648256:memory.c:566)]: orig free=21152137216 total=25217466368 limit=25769803776 usage=4003595264\n",
      "[4pdvGPU Msg(72319:139897580648256:memory.c:566)]: orig free=21745631232 total=25217466368 limit=25769803776 usage=3410101248\n",
      "Loading checkpoint shards: 100%|█████████████| 2/2 [00:04<00:00,  2.42s/it]\n",
      "[4pdvGPU Warn(72500:140335937480512:hook.c:475)]: remap handles for device 0\n",
      "[4pdvGPU Warn(72500:140335937480512:hook.c:475)]: remap handles for device 1\n"
     ]
    }
   ],
   "source": [
    "model_name = \"../model/law_3b_f16\"\n",
    "\n",
    "# load the tokenizer and the model\n",
    "tokenizer = AutoTokenizer.from_pretrained(model_name)\n",
    "model = AutoModelForCausalLM.from_pretrained(\n",
    "    model_name,\n",
    "    torch_dtype=\"auto\",\n",
    "    device_map=\"auto\"\n",
    ")"
   ]
  },
  {
   "cell_type": "code",
   "execution_count": null,
   "id": "19c08ad9-04c6-4c76-ba0b-accd7abfa4a9",
   "metadata": {},
   "outputs": [
    {
     "name": "stdout",
     "output_type": "stream",
     "text": [
      "134\n",
      "336\n"
     ]
    }
   ],
   "source": [
    "path = \"../data/val_csv_single/\"\n",
    "total_len=0\n",
    "answer = []\n",
    "acc = 0\n",
    "for name in csv_list:\n",
    "    csv_name = \"\".join([path,name])\n",
    "    df = pd.read_csv(csv_name)\n",
    "    total_len += len(df)\n",
    "    for i in range(len(df)):\n",
    "        prompt = f\"\"\"\n",
    "        这是一个关于法律问题的单项选择题,请根据题目选择正确的选项(只需要回答正确选项即可，不需要进行分析)：\\n\n",
    "        问题：{df[\"input\"][i]}\\n\n",
    "        A：{df[\"A\"][i]}\\n\n",
    "        B:{df[\"B\"][i]}\\n\n",
    "        C:{df[\"C\"][i]}\\n\n",
    "        D:{df[\"D\"][i]}\\n\n",
    "        \"\"\"\n",
    "        messages = [\n",
    "            {\"role\": \"user\", \"content\": prompt}\n",
    "        ]\n",
    "        text = tokenizer.apply_chat_template(\n",
    "            messages,\n",
    "            tokenize=False,\n",
    "            add_generation_prompt=True,\n",
    "        )\n",
    "        model_inputs = tokenizer([text], return_tensors=\"pt\").to(model.device)\n",
    "        \n",
    "        # conduct text completion\n",
    "        generated_ids = model.generate(\n",
    "            **model_inputs,\n",
    "            max_new_tokens=50\n",
    "        )\n",
    "        \n",
    "        content = tokenizer.decode(generated_ids[0][model_inputs.input_ids.shape[1]:], skip_special_tokens=True).strip(\"\\n\")\n",
    "        if content[0] ==  df[\"output\"][i]:\n",
    "            acc += 1    \n",
    "        answer.append(content[0])\n",
    "    print(acc)\n",
    "persentage = acc/total_len\n",
    "print(persentage)"
   ]
  },
  {
   "cell_type": "code",
   "execution_count": null,
   "id": "a88e39e6-cd56-4599-ac6f-5a72817330a2",
   "metadata": {},
   "outputs": [],
   "source": [
    "def contains_only_allowed_chars(lst, allowed_chars={'A', 'B', 'C', 'D'}):\n",
    "    # 将列表转换为大写，并检查是否是允许字符的子集\n",
    "    return set(x.upper() for x in lst).issubset(allowed_chars)\n",
    "contains_only_allowed_chars(answer)"
   ]
  },
  {
   "cell_type": "markdown",
   "id": "9b810218-5568-4054-8220-a36a0d3a1b10",
   "metadata": {},
   "source": [
    "### full_model"
   ]
  },
  {
   "cell_type": "code",
   "execution_count": 8,
   "id": "7a3c0fa1-60db-4452-b02e-4c981b5e320b",
   "metadata": {},
   "outputs": [
    {
     "name": "stderr",
     "output_type": "stream",
     "text": [
      "[4pdvGPU Msg(71989:139862630549312:memory.c:566)]: orig free=17440178176 total=25217466368 limit=25769803776 usage=7715554304\n",
      "[4pdvGPU Msg(71989:139862630549312:memory.c:566)]: orig free=19254214656 total=25217466368 limit=25769803776 usage=5901517824\n",
      "Loading checkpoint shards:   0%|                                        | 0/2 [00:00<?, ?it/s][4pdvGPU Msg(71989:139862630549312:memory.c:566)]: orig free=17440178176 total=25217466368 limit=25769803776 usage=7715554304\n",
      "[4pdvGPU Msg(71989:139862630549312:memory.c:566)]: orig free=19254214656 total=25217466368 limit=25769803776 usage=5901517824\n",
      "Loading checkpoint shards: 100%|████████████████████████████████| 2/2 [00:04<00:00,  2.31s/it]\n",
      "[4pdvGPU Warn(72213:140549654329152:hook.c:475)]: remap handles for device 0\n",
      "[4pdvGPU Warn(72213:140549654329152:hook.c:475)]: remap handles for device 1\n"
     ]
    }
   ],
   "source": [
    "model_name = \"../model/law_3b_full_data_f16\"\n",
    "\n",
    "# load the tokenizer and the model\n",
    "tokenizer = AutoTokenizer.from_pretrained(model_name)\n",
    "model = AutoModelForCausalLM.from_pretrained(\n",
    "    model_name,\n",
    "    torch_dtype=\"auto\",\n",
    "    device_map=\"auto\"\n",
    ")"
   ]
  },
  {
   "cell_type": "code",
   "execution_count": 9,
   "id": "cac21b5c-dbe8-405b-bd23-139815841d3d",
   "metadata": {},
   "outputs": [
    {
     "name": "stdout",
     "output_type": "stream",
     "text": [
      "145\n",
      "363\n",
      "607\n",
      "661\n",
      "799\n",
      "1031\n",
      "0.6376004947433519\n"
     ]
    }
   ],
   "source": [
    "path = \"../data/val_csv_single/\"\n",
    "total_len=0\n",
    "answer = []\n",
    "acc = 0\n",
    "for name in csv_list:\n",
    "    csv_name = \"\".join([path,name])\n",
    "    df = pd.read_csv(csv_name)\n",
    "    total_len += len(df)\n",
    "    for i in range(len(df)):\n",
    "        prompt = f\"\"\"\n",
    "        这是一个关于法律问题的单项选择题,请根据题目选择正确的选项(只需要回答正确选项即可，不需要进行分析)：\\n\n",
    "        问题：{df[\"input\"][i]}\\n\n",
    "        A：{df[\"A\"][i]}\\n\n",
    "        B:{df[\"B\"][i]}\\n\n",
    "        C:{df[\"C\"][i]}\\n\n",
    "        D:{df[\"D\"][i]}\\n\n",
    "        \"\"\"\n",
    "        messages = [\n",
    "            {\"role\": \"user\", \"content\": prompt}\n",
    "        ]\n",
    "        text = tokenizer.apply_chat_template(\n",
    "            messages,\n",
    "            tokenize=False,\n",
    "            add_generation_prompt=True,\n",
    "        )\n",
    "        model_inputs = tokenizer([text], return_tensors=\"pt\").to(model.device)\n",
    "        \n",
    "        # conduct text completion\n",
    "        generated_ids = model.generate(\n",
    "            **model_inputs,\n",
    "            max_new_tokens=50\n",
    "        )\n",
    "        \n",
    "        content = tokenizer.decode(generated_ids[0][model_inputs.input_ids.shape[1]:], skip_special_tokens=True).strip(\"\\n\")\n",
    "        if content[0] ==  df[\"output\"][i]:\n",
    "            acc += 1    \n",
    "        answer.append(content[0])\n",
    "    print(acc)\n",
    "persentage = acc/total_len\n",
    "print(persentage)"
   ]
  },
  {
   "cell_type": "code",
   "execution_count": 18,
   "id": "3b6bafa2-dcbb-4997-9959-ec19113e3afc",
   "metadata": {},
   "outputs": [
    {
     "name": "stdout",
     "output_type": "stream",
     "text": [
      "197\n",
      "275\n",
      "537\n",
      "118\n",
      "170\n",
      "320\n"
     ]
    }
   ],
   "source": [
    "path = \"../data/val_csv_single/\"\n",
    "total_len=0\n",
    "answer = []\n",
    "acc = 0\n",
    "for name in csv_list:\n",
    "    csv_name = \"\".join([path,name])\n",
    "    df = pd.read_csv(csv_name)\n",
    "    print(len(df))\n"
   ]
  },
  {
   "cell_type": "code",
   "execution_count": 13,
   "id": "2ca9977b-c11d-4f29-9d3e-7f25bc5690f2",
   "metadata": {},
   "outputs": [
    {
     "data": {
      "text/plain": [
       "True"
      ]
     },
     "execution_count": 13,
     "metadata": {},
     "output_type": "execute_result"
    }
   ],
   "source": [
    "def contains_only_allowed_chars(lst, allowed_chars={'A', 'B', 'C', 'D'}):\n",
    "    # 将列表转换为大写，并检查是否是允许字符的子集\n",
    "    return set(x.upper() for x in lst).issubset(allowed_chars)\n",
    "contains_only_allowed_chars(answer)"
   ]
  },
  {
   "cell_type": "code",
   "execution_count": null,
   "id": "cf3612e4-9682-4386-9534-dff4590aa5a5",
   "metadata": {},
   "outputs": [],
   "source": []
  }
 ],
 "metadata": {
  "kernelspec": {
   "display_name": "Python 3 (ipykernel)",
   "language": "python",
   "name": "python3"
  },
  "language_info": {
   "codemirror_mode": {
    "name": "ipython",
    "version": 3
   },
   "file_extension": ".py",
   "mimetype": "text/x-python",
   "name": "python",
   "nbconvert_exporter": "python",
   "pygments_lexer": "ipython3",
   "version": "3.10.16"
  }
 },
 "nbformat": 4,
 "nbformat_minor": 5
}
